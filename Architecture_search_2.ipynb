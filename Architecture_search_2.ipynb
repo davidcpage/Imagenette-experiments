{
  "nbformat": 4,
  "nbformat_minor": 0,
  "metadata": {
    "colab": {
      "name": "Architecture_search_2.ipynb",
      "provenance": [],
      "collapsed_sections": [],
      "include_colab_link": true
    },
    "kernelspec": {
      "name": "python3",
      "display_name": "Python 3"
    },
    "accelerator": "GPU"
  },
  "cells": [
    {
      "cell_type": "markdown",
      "metadata": {
        "id": "view-in-github",
        "colab_type": "text"
      },
      "source": [
        "<a href=\"https://colab.research.google.com/github/davidcpage/Imagenette-experiments/blob/master/Architecture_search_2.ipynb\" target=\"_parent\"><img src=\"https://colab.research.google.com/assets/colab-badge.svg\" alt=\"Open In Colab\"/></a>"
      ]
    },
    {
      "cell_type": "markdown",
      "metadata": {
        "id": "ZV0GakqisVZJ",
        "colab_type": "text"
      },
      "source": [
        "In this notebook we continue investigating architectures for 5 epoch Imagenette training. Note we are using the new Imagenette2 dataset here."
      ]
    },
    {
      "cell_type": "markdown",
      "metadata": {
        "id": "ek7wWQAzTBgr",
        "colab_type": "text"
      },
      "source": [
        "### Setup"
      ]
    },
    {
      "cell_type": "code",
      "metadata": {
        "id": "XWOc9Ny9TAWs",
        "colab_type": "code",
        "colab": {}
      },
      "source": [
        "!python -m pip install typeguard\n",
        "!python -m pip install --upgrade pillow fastprogress\n",
        "!python -m pip install git+https://github.com/fastai/fastcore.git\n",
        "!python -m pip install git+https://github.com/fastai/fastai2\n",
        "\n",
        "!python -m pip install --extra-index-url https://developer.download.nvidia.com/compute/redist/cuda/10.0 nvidia-dali\n",
        "\n",
        "UTILS = 'https://raw.githubusercontent.com/davidcpage/Imagenette-experiments/master/utils.py'\n",
        "!wget $UTILS -O utils.py"
      ],
      "execution_count": 0,
      "outputs": []
    },
    {
      "cell_type": "code",
      "metadata": {
        "id": "m7FaCBiTlbSv",
        "colab_type": "code",
        "outputId": "39d79307-f0a6-4cd9-904e-80053add962c",
        "colab": {
          "base_uri": "https://localhost:8080/",
          "height": 34
        }
      },
      "source": [
        "from functools import partial\n",
        "import numpy as np\n",
        "import torch\n",
        "import torch.nn as nn\n",
        "\n",
        "import fastai2, fastai2.callback.all\n",
        "data_dir = fastai2.basics.untar_data(fastai2.basics.URLs.IMAGENETTE_160)\n",
        "\n",
        "device = torch.device(torch.cuda.current_device())\n",
        "torch.backends.cudnn.benchmark = True\n",
        "\n",
        "from utils import *\n",
        "draw = lambda model, max_levels=-1, size=None: display(Network(model).explode(max_levels).draw(size=size))"
      ],
      "execution_count": 0,
      "outputs": [
        {
          "output_type": "stream",
          "text": [
            "/root/.fastai/data/imagenette2-160\n"
          ],
          "name": "stdout"
        }
      ]
    },
    {
      "cell_type": "markdown",
      "metadata": {
        "id": "ogrohvgso0mr",
        "colab_type": "text"
      },
      "source": [
        "### DALI Dataloaders"
      ]
    },
    {
      "cell_type": "code",
      "metadata": {
        "id": "ADGXOUghozRJ",
        "colab_type": "code",
        "colab": {}
      },
      "source": [
        "size = 128\n",
        "bs = 64\n",
        "random_aspect_ratio = (3/4, 4/3)\n",
        "random_area = (0.35, 1.)\n",
        "val_xtra_size = 32\n",
        "\n",
        "to = lambda dtype: (lambda b: (b[0].to(dtype), b[1]))\n",
        "\n",
        "train_dl = lambda folder, bs, dtype=torch.float16: (\n",
        "        Map(to(dtype), DALIDataLoader(imagenet_train_graph(folder, size, random_aspect_ratio, random_area), bs, drop_last=True, device=device)))\n",
        "valid_dl = lambda folder, bs, dtype=torch.float16: Chain(\n",
        "        Map(to(dtype), DALIDataLoader(imagenet_valid_graph(folder, size, val_xtra_size), bs, drop_last=False, device=device)),\n",
        "        Map(to(dtype), DALIDataLoader(imagenet_valid_graph(folder, size, val_xtra_size, mirror=1), bs, drop_last=False, device=device)),\n",
        "    )\n",
        "\n",
        "data = lambda data_dir=data_dir, bs=bs, dtype=torch.float16: fastai2.basics.DataBunch(train_dl(data_dir/'train', bs, dtype), valid_dl(data_dir/'val', bs, dtype))"
      ],
      "execution_count": 0,
      "outputs": []
    },
    {
      "cell_type": "markdown",
      "metadata": {
        "id": "YdChyDriq99S",
        "colab_type": "text"
      },
      "source": [
        "### Model"
      ]
    },
    {
      "cell_type": "code",
      "metadata": {
        "id": "CZOp6Lqfb1NX",
        "colab_type": "code",
        "colab": {}
      },
      "source": [
        "conv = partial(fastai2.layers.ConvLayer, act_cls=MishJit)\n",
        "\n",
        "class Residual(SplitMerge):\n",
        "    def __init__(self, c, f=4, zero=True):\n",
        "        conv_path = nn.Sequential(\n",
        "            conv(c, c*f, groups=c),\n",
        "            conv(c*f, c, norm_type=fastai2.layers.NormType.BatchZero if zero else fastai2.layers.NormType.Batch),\n",
        "        )\n",
        "        super().__init__([conv_path, nn.Sequential()])\n",
        "\n",
        "def block(c_in, c_out, num_residual=0, f=4):\n",
        "    return nn.Sequential(\n",
        "        conv(c_in, c_in*f, groups=c_in),\n",
        "        conv(c_in*f, c_out),\n",
        "        nn.MaxPool2d(3,2,1),\n",
        "        *[Residual(c_out, f=f) for _ in range(num_residual)]\n",
        ")\n",
        "    \n",
        "sizes = (32, 64, 128, 256, 512)\n",
        "def model(num_residual, sizes=sizes): \n",
        "    m = nn.Sequential(\n",
        "        conv(3, sizes[0], stride=2),\n",
        "        *[block(c_in, c_out, n) for (c_in, c_out, n) in zip(sizes[:-1], sizes[1:], num_residual)],\n",
        "        nn.AdaptiveAvgPool2d(1),\n",
        "        fastai2.layers.Flatten(),\n",
        "        nn.Linear(sizes[-1], 10, bias=True),\n",
        "    )\n",
        "    fastai2.vision.models.xresnet.init_cnn(m)\n",
        "    return m"
      ],
      "execution_count": 0,
      "outputs": []
    },
    {
      "cell_type": "code",
      "metadata": {
        "id": "ltKRfvzmlyuj",
        "colab_type": "code",
        "colab": {}
      },
      "source": [
        "learner = partial(fastai2.basics.Learner,\n",
        "        metrics=[fastai2.metrics.accuracy, smoothed_acc],\n",
        "        loss_func=fastai2.basics.LabelSmoothingCrossEntropy())"
      ],
      "execution_count": 0,
      "outputs": []
    },
    {
      "cell_type": "code",
      "metadata": {
        "id": "HPliNzA6vm9S",
        "colab_type": "code",
        "outputId": "a24d1b87-d456-4841-fbe5-3a20e7b3dd02",
        "colab": {
          "base_uri": "https://localhost:8080/",
          "height": 299
        }
      },
      "source": [
        "learn = learner(data(dtype=torch.float), model(num_residual=(0, 0, 0, 0)))\n",
        "draw(learn.model, size=25)\n",
        "learn.fit_one_cycle(5, lr_max=2e-2)"
      ],
      "execution_count": 0,
      "outputs": [
        {
          "output_type": "display_data",
          "data": {
            "text/plain": [
              "<utils.DotGraph at 0x7fcaee42cdd8>"
            ],
            "image/svg+xml": "<?xml version=\"1.0\" encoding=\"UTF-8\" standalone=\"no\"?>\n<!DOCTYPE svg PUBLIC \"-//W3C//DTD SVG 1.1//EN\"\n \"http://www.w3.org/Graphics/SVG/1.1/DTD/svg11.dtd\">\n<!-- Generated by graphviz version 2.40.1 (20161225.0304)\n -->\n<!-- Title: G Pages: 1 -->\n<svg width=\"1800pt\" height=\"68pt\"\n viewBox=\"0.00 0.00 1800.00 67.67\" xmlns=\"http://www.w3.org/2000/svg\" xmlns:xlink=\"http://www.w3.org/1999/xlink\">\n<g id=\"graph0\" class=\"graph\" transform=\"scale(.4903 .4903) rotate(0) translate(4 134)\">\n<title>G</title>\n<polygon fill=\"#ffffff\" stroke=\"transparent\" points=\"-4,4 -4,-134 3667,-134 3667,4 -4,4\"/>\n<g id=\"clust1\" class=\"cluster\">\n<title>cluster_ConvLayer_0</title>\n<path fill=\"#777777\" fill-opacity=\"0.266667\" stroke=\"#000000\" d=\"M94,-16C94,-16 361,-16 361,-16 367,-16 373,-22 373,-28 373,-28 373,-79 373,-79 373,-85 367,-91 361,-91 361,-91 94,-91 94,-91 88,-91 82,-85 82,-79 82,-79 82,-28 82,-28 82,-22 88,-16 94,-16\"/>\n<text text-anchor=\"middle\" x=\"227.5\" y=\"-75.8\" font-family=\"Times,serif\" font-size=\"14.00\" fill=\"#000000\">ConvLayer_0</text>\n</g>\n<g id=\"clust2\" class=\"cluster\">\n<title>cluster_Sequential_1</title>\n<path fill=\"#777777\" fill-opacity=\"0.266667\" stroke=\"#000000\" d=\"M397,-8C397,-8 1103,-8 1103,-8 1109,-8 1115,-14 1115,-20 1115,-20 1115,-110 1115,-110 1115,-116 1109,-122 1103,-122 1103,-122 397,-122 397,-122 391,-122 385,-116 385,-110 385,-110 385,-20 385,-20 385,-14 391,-8 397,-8\"/>\n<text text-anchor=\"middle\" x=\"750\" y=\"-106.8\" font-family=\"Times,serif\" font-size=\"14.00\" fill=\"#000000\">Sequential_1</text>\n</g>\n<g id=\"clust3\" class=\"cluster\">\n<title>cluster_Sequential_1/ConvLayer_0</title>\n<path fill=\"#777777\" fill-opacity=\"0.266667\" stroke=\"#000000\" d=\"M405,-16C405,-16 672,-16 672,-16 678,-16 684,-22 684,-28 684,-28 684,-79 684,-79 684,-85 678,-91 672,-91 672,-91 405,-91 405,-91 399,-91 393,-85 393,-79 393,-79 393,-28 393,-28 393,-22 399,-16 405,-16\"/>\n<text text-anchor=\"middle\" x=\"538.5\" y=\"-75.8\" font-family=\"Times,serif\" font-size=\"14.00\" fill=\"#000000\">ConvLayer_0</text>\n</g>\n<g id=\"clust4\" class=\"cluster\">\n<title>cluster_Sequential_1/ConvLayer_1</title>\n<path fill=\"#777777\" fill-opacity=\"0.266667\" stroke=\"#000000\" d=\"M716,-16C716,-16 983,-16 983,-16 989,-16 995,-22 995,-28 995,-28 995,-79 995,-79 995,-85 989,-91 983,-91 983,-91 716,-91 716,-91 710,-91 704,-85 704,-79 704,-79 704,-28 704,-28 704,-22 710,-16 716,-16\"/>\n<text text-anchor=\"middle\" x=\"849.5\" y=\"-75.8\" font-family=\"Times,serif\" font-size=\"14.00\" fill=\"#000000\">ConvLayer_1</text>\n</g>\n<g id=\"clust5\" class=\"cluster\">\n<title>cluster_Sequential_2</title>\n<path fill=\"#777777\" fill-opacity=\"0.266667\" stroke=\"#000000\" d=\"M1139,-8C1139,-8 1845,-8 1845,-8 1851,-8 1857,-14 1857,-20 1857,-20 1857,-110 1857,-110 1857,-116 1851,-122 1845,-122 1845,-122 1139,-122 1139,-122 1133,-122 1127,-116 1127,-110 1127,-110 1127,-20 1127,-20 1127,-14 1133,-8 1139,-8\"/>\n<text text-anchor=\"middle\" x=\"1492\" y=\"-106.8\" font-family=\"Times,serif\" font-size=\"14.00\" fill=\"#000000\">Sequential_2</text>\n</g>\n<g id=\"clust6\" class=\"cluster\">\n<title>cluster_Sequential_2/ConvLayer_0</title>\n<path fill=\"#777777\" fill-opacity=\"0.266667\" stroke=\"#000000\" d=\"M1147,-16C1147,-16 1414,-16 1414,-16 1420,-16 1426,-22 1426,-28 1426,-28 1426,-79 1426,-79 1426,-85 1420,-91 1414,-91 1414,-91 1147,-91 1147,-91 1141,-91 1135,-85 1135,-79 1135,-79 1135,-28 1135,-28 1135,-22 1141,-16 1147,-16\"/>\n<text text-anchor=\"middle\" x=\"1280.5\" y=\"-75.8\" font-family=\"Times,serif\" font-size=\"14.00\" fill=\"#000000\">ConvLayer_0</text>\n</g>\n<g id=\"clust7\" class=\"cluster\">\n<title>cluster_Sequential_2/ConvLayer_1</title>\n<path fill=\"#777777\" fill-opacity=\"0.266667\" stroke=\"#000000\" d=\"M1458,-16C1458,-16 1725,-16 1725,-16 1731,-16 1737,-22 1737,-28 1737,-28 1737,-79 1737,-79 1737,-85 1731,-91 1725,-91 1725,-91 1458,-91 1458,-91 1452,-91 1446,-85 1446,-79 1446,-79 1446,-28 1446,-28 1446,-22 1452,-16 1458,-16\"/>\n<text text-anchor=\"middle\" x=\"1591.5\" y=\"-75.8\" font-family=\"Times,serif\" font-size=\"14.00\" fill=\"#000000\">ConvLayer_1</text>\n</g>\n<g id=\"clust8\" class=\"cluster\">\n<title>cluster_Sequential_3</title>\n<path fill=\"#777777\" fill-opacity=\"0.266667\" stroke=\"#000000\" d=\"M1881,-8C1881,-8 2587,-8 2587,-8 2593,-8 2599,-14 2599,-20 2599,-20 2599,-110 2599,-110 2599,-116 2593,-122 2587,-122 2587,-122 1881,-122 1881,-122 1875,-122 1869,-116 1869,-110 1869,-110 1869,-20 1869,-20 1869,-14 1875,-8 1881,-8\"/>\n<text text-anchor=\"middle\" x=\"2234\" y=\"-106.8\" font-family=\"Times,serif\" font-size=\"14.00\" fill=\"#000000\">Sequential_3</text>\n</g>\n<g id=\"clust9\" class=\"cluster\">\n<title>cluster_Sequential_3/ConvLayer_0</title>\n<path fill=\"#777777\" fill-opacity=\"0.266667\" stroke=\"#000000\" d=\"M1889,-16C1889,-16 2156,-16 2156,-16 2162,-16 2168,-22 2168,-28 2168,-28 2168,-79 2168,-79 2168,-85 2162,-91 2156,-91 2156,-91 1889,-91 1889,-91 1883,-91 1877,-85 1877,-79 1877,-79 1877,-28 1877,-28 1877,-22 1883,-16 1889,-16\"/>\n<text text-anchor=\"middle\" x=\"2022.5\" y=\"-75.8\" font-family=\"Times,serif\" font-size=\"14.00\" fill=\"#000000\">ConvLayer_0</text>\n</g>\n<g id=\"clust10\" class=\"cluster\">\n<title>cluster_Sequential_3/ConvLayer_1</title>\n<path fill=\"#777777\" fill-opacity=\"0.266667\" stroke=\"#000000\" d=\"M2200,-16C2200,-16 2467,-16 2467,-16 2473,-16 2479,-22 2479,-28 2479,-28 2479,-79 2479,-79 2479,-85 2473,-91 2467,-91 2467,-91 2200,-91 2200,-91 2194,-91 2188,-85 2188,-79 2188,-79 2188,-28 2188,-28 2188,-22 2194,-16 2200,-16\"/>\n<text text-anchor=\"middle\" x=\"2333.5\" y=\"-75.8\" font-family=\"Times,serif\" font-size=\"14.00\" fill=\"#000000\">ConvLayer_1</text>\n</g>\n<g id=\"clust11\" class=\"cluster\">\n<title>cluster_Sequential_4</title>\n<path fill=\"#777777\" fill-opacity=\"0.266667\" stroke=\"#000000\" d=\"M2623,-8C2623,-8 3329,-8 3329,-8 3335,-8 3341,-14 3341,-20 3341,-20 3341,-110 3341,-110 3341,-116 3335,-122 3329,-122 3329,-122 2623,-122 2623,-122 2617,-122 2611,-116 2611,-110 2611,-110 2611,-20 2611,-20 2611,-14 2617,-8 2623,-8\"/>\n<text text-anchor=\"middle\" x=\"2976\" y=\"-106.8\" font-family=\"Times,serif\" font-size=\"14.00\" fill=\"#000000\">Sequential_4</text>\n</g>\n<g id=\"clust12\" class=\"cluster\">\n<title>cluster_Sequential_4/ConvLayer_0</title>\n<path fill=\"#777777\" fill-opacity=\"0.266667\" stroke=\"#000000\" d=\"M2631,-16C2631,-16 2898,-16 2898,-16 2904,-16 2910,-22 2910,-28 2910,-28 2910,-79 2910,-79 2910,-85 2904,-91 2898,-91 2898,-91 2631,-91 2631,-91 2625,-91 2619,-85 2619,-79 2619,-79 2619,-28 2619,-28 2619,-22 2625,-16 2631,-16\"/>\n<text text-anchor=\"middle\" x=\"2764.5\" y=\"-75.8\" font-family=\"Times,serif\" font-size=\"14.00\" fill=\"#000000\">ConvLayer_0</text>\n</g>\n<g id=\"clust13\" class=\"cluster\">\n<title>cluster_Sequential_4/ConvLayer_1</title>\n<path fill=\"#777777\" fill-opacity=\"0.266667\" stroke=\"#000000\" d=\"M2942,-16C2942,-16 3209,-16 3209,-16 3215,-16 3221,-22 3221,-28 3221,-28 3221,-79 3221,-79 3221,-85 3215,-91 3209,-91 3209,-91 2942,-91 2942,-91 2936,-91 2930,-85 2930,-79 2930,-79 2930,-28 2930,-28 2930,-22 2936,-16 2942,-16\"/>\n<text text-anchor=\"middle\" x=\"3075.5\" y=\"-75.8\" font-family=\"Times,serif\" font-size=\"14.00\" fill=\"#000000\">ConvLayer_1</text>\n</g>\n<!-- ConvLayer_0/Conv_0 -->\n<g id=\"node1\" class=\"node\">\n<title>ConvLayer_0/Conv_0</title>\n<g id=\"a_node1\"><a xlink:title=\"Conv2d(3, 32, kernel_size=(3, 3), stride=(2, 2), padding=(1, 1), bias=False)\">\n<path fill=\"#bebada\" stroke=\"#000000\" d=\"M142,-60C142,-60 102,-60 102,-60 96,-60 90,-54 90,-48 90,-48 90,-36 90,-36 90,-30 96,-24 102,-24 102,-24 142,-24 142,-24 148,-24 154,-30 154,-36 154,-36 154,-48 154,-48 154,-54 148,-60 142,-60\"/>\n<text text-anchor=\"middle\" x=\"122\" y=\"-38.3\" font-family=\"Times,serif\" font-size=\"14.00\" fill=\"#000000\">Conv_0</text>\n</a>\n</g>\n</g>\n<!-- ConvLayer_0/Norm_1 -->\n<g id=\"node2\" class=\"node\">\n<title>ConvLayer_0/Norm_1</title>\n<g id=\"a_node2\"><a xlink:title=\"BatchNorm2d(32, eps=1e&#45;05, momentum=0.1, affine=True, track_running_stats=True)\">\n<path fill=\"#ffffb3\" stroke=\"#000000\" d=\"M243,-60C243,-60 202,-60 202,-60 196,-60 190,-54 190,-48 190,-48 190,-36 190,-36 190,-30 196,-24 202,-24 202,-24 243,-24 243,-24 249,-24 255,-30 255,-36 255,-36 255,-48 255,-48 255,-54 249,-60 243,-60\"/>\n<text text-anchor=\"middle\" x=\"222.5\" y=\"-38.3\" font-family=\"Times,serif\" font-size=\"14.00\" fill=\"#000000\">Norm_1</text>\n</a>\n</g>\n</g>\n<!-- ConvLayer_0/Conv_0&#45;&gt;ConvLayer_0/Norm_1 -->\n<g id=\"edge2\" class=\"edge\">\n<title>ConvLayer_0/Conv_0&#45;&gt;ConvLayer_0/Norm_1</title>\n<g id=\"a_edge2\"><a xlink:title=\"0\">\n<path fill=\"none\" stroke=\"#000000\" d=\"M154.0751,-42C162.1615,-42 170.9735,-42 179.501,-42\"/>\n<polygon fill=\"#000000\" stroke=\"#000000\" points=\"179.6936,-45.5001 189.6936,-42 179.6936,-38.5001 179.6936,-45.5001\"/>\n</a>\n</g>\n</g>\n<!-- ConvLayer_0/MishJit_2 -->\n<g id=\"node3\" class=\"node\">\n<title>ConvLayer_0/MishJit_2</title>\n<g id=\"a_node3\"><a xlink:title=\"MishJit()\">\n<path fill=\"#fb8072\" stroke=\"#000000\" d=\"M353,-60C353,-60 303,-60 303,-60 297,-60 291,-54 291,-48 291,-48 291,-36 291,-36 291,-30 297,-24 303,-24 303,-24 353,-24 353,-24 359,-24 365,-30 365,-36 365,-36 365,-48 365,-48 365,-54 359,-60 353,-60\"/>\n<text text-anchor=\"middle\" x=\"328\" y=\"-38.3\" font-family=\"Times,serif\" font-size=\"14.00\" fill=\"#000000\">MishJit_2</text>\n</a>\n</g>\n</g>\n<!-- ConvLayer_0/Norm_1&#45;&gt;ConvLayer_0/MishJit_2 -->\n<g id=\"edge3\" class=\"edge\">\n<title>ConvLayer_0/Norm_1&#45;&gt;ConvLayer_0/MishJit_2</title>\n<g id=\"a_edge3\"><a xlink:title=\"0\">\n<path fill=\"none\" stroke=\"#000000\" d=\"M255.0143,-42C263.1953,-42 272.1417,-42 280.8796,-42\"/>\n<polygon fill=\"#000000\" stroke=\"#000000\" points=\"280.9831,-45.5001 290.9831,-42 280.9831,-38.5001 280.9831,-45.5001\"/>\n</a>\n</g>\n</g>\n<!-- Sequential_1/ConvLayer_0/Conv_0 -->\n<g id=\"node4\" class=\"node\">\n<title>Sequential_1/ConvLayer_0/Conv_0</title>\n<g id=\"a_node4\"><a xlink:title=\"Conv2d(32, 128, kernel_size=(3, 3), stride=(1, 1), padding=(1, 1), groups=32, bias=False)\">\n<path fill=\"#bebada\" stroke=\"#000000\" d=\"M453,-60C453,-60 413,-60 413,-60 407,-60 401,-54 401,-48 401,-48 401,-36 401,-36 401,-30 407,-24 413,-24 413,-24 453,-24 453,-24 459,-24 465,-30 465,-36 465,-36 465,-48 465,-48 465,-54 459,-60 453,-60\"/>\n<text text-anchor=\"middle\" x=\"433\" y=\"-38.3\" font-family=\"Times,serif\" font-size=\"14.00\" fill=\"#000000\">Conv_0</text>\n</a>\n</g>\n</g>\n<!-- ConvLayer_0/MishJit_2&#45;&gt;Sequential_1/ConvLayer_0/Conv_0 -->\n<g id=\"edge4\" class=\"edge\">\n<title>ConvLayer_0/MishJit_2&#45;&gt;Sequential_1/ConvLayer_0/Conv_0</title>\n<g id=\"a_edge4\"><a xlink:title=\"0\">\n<path fill=\"none\" stroke=\"#000000\" d=\"M365.0191,-42C373.3303,-42 382.2101,-42 390.7174,-42\"/>\n<polygon fill=\"#000000\" stroke=\"#000000\" points=\"390.8467,-45.5001 400.8467,-42 390.8466,-38.5001 390.8467,-45.5001\"/>\n</a>\n</g>\n</g>\n<!-- Sequential_1/ConvLayer_0/Norm_1 -->\n<g id=\"node5\" class=\"node\">\n<title>Sequential_1/ConvLayer_0/Norm_1</title>\n<g id=\"a_node5\"><a xlink:title=\"BatchNorm2d(128, eps=1e&#45;05, momentum=0.1, affine=True, track_running_stats=True)\">\n<path fill=\"#ffffb3\" stroke=\"#000000\" d=\"M554,-60C554,-60 513,-60 513,-60 507,-60 501,-54 501,-48 501,-48 501,-36 501,-36 501,-30 507,-24 513,-24 513,-24 554,-24 554,-24 560,-24 566,-30 566,-36 566,-36 566,-48 566,-48 566,-54 560,-60 554,-60\"/>\n<text text-anchor=\"middle\" x=\"533.5\" y=\"-38.3\" font-family=\"Times,serif\" font-size=\"14.00\" fill=\"#000000\">Norm_1</text>\n</a>\n</g>\n</g>\n<!-- Sequential_1/ConvLayer_0/Conv_0&#45;&gt;Sequential_1/ConvLayer_0/Norm_1 -->\n<g id=\"edge5\" class=\"edge\">\n<title>Sequential_1/ConvLayer_0/Conv_0&#45;&gt;Sequential_1/ConvLayer_0/Norm_1</title>\n<g id=\"a_edge5\"><a xlink:title=\"0\">\n<path fill=\"none\" stroke=\"#000000\" d=\"M465.0751,-42C473.1615,-42 481.9735,-42 490.501,-42\"/>\n<polygon fill=\"#000000\" stroke=\"#000000\" points=\"490.6936,-45.5001 500.6936,-42 490.6936,-38.5001 490.6936,-45.5001\"/>\n</a>\n</g>\n</g>\n<!-- Sequential_1/ConvLayer_0/MishJit_2 -->\n<g id=\"node6\" class=\"node\">\n<title>Sequential_1/ConvLayer_0/MishJit_2</title>\n<g id=\"a_node6\"><a xlink:title=\"MishJit()\">\n<path fill=\"#fb8072\" stroke=\"#000000\" d=\"M664,-60C664,-60 614,-60 614,-60 608,-60 602,-54 602,-48 602,-48 602,-36 602,-36 602,-30 608,-24 614,-24 614,-24 664,-24 664,-24 670,-24 676,-30 676,-36 676,-36 676,-48 676,-48 676,-54 670,-60 664,-60\"/>\n<text text-anchor=\"middle\" x=\"639\" y=\"-38.3\" font-family=\"Times,serif\" font-size=\"14.00\" fill=\"#000000\">MishJit_2</text>\n</a>\n</g>\n</g>\n<!-- Sequential_1/ConvLayer_0/Norm_1&#45;&gt;Sequential_1/ConvLayer_0/MishJit_2 -->\n<g id=\"edge6\" class=\"edge\">\n<title>Sequential_1/ConvLayer_0/Norm_1&#45;&gt;Sequential_1/ConvLayer_0/MishJit_2</title>\n<g id=\"a_edge6\"><a xlink:title=\"0\">\n<path fill=\"none\" stroke=\"#000000\" d=\"M566.0143,-42C574.1953,-42 583.1417,-42 591.8796,-42\"/>\n<polygon fill=\"#000000\" stroke=\"#000000\" points=\"591.9831,-45.5001 601.9831,-42 591.9831,-38.5001 591.9831,-45.5001\"/>\n</a>\n</g>\n</g>\n<!-- Sequential_1/ConvLayer_1/Conv_0 -->\n<g id=\"node7\" class=\"node\">\n<title>Sequential_1/ConvLayer_1/Conv_0</title>\n<g id=\"a_node7\"><a xlink:title=\"Conv2d(128, 64, kernel_size=(3, 3), stride=(1, 1), padding=(1, 1), bias=False)\">\n<path fill=\"#bebada\" stroke=\"#000000\" d=\"M764,-60C764,-60 724,-60 724,-60 718,-60 712,-54 712,-48 712,-48 712,-36 712,-36 712,-30 718,-24 724,-24 724,-24 764,-24 764,-24 770,-24 776,-30 776,-36 776,-36 776,-48 776,-48 776,-54 770,-60 764,-60\"/>\n<text text-anchor=\"middle\" x=\"744\" y=\"-38.3\" font-family=\"Times,serif\" font-size=\"14.00\" fill=\"#000000\">Conv_0</text>\n</a>\n</g>\n</g>\n<!-- Sequential_1/ConvLayer_0/MishJit_2&#45;&gt;Sequential_1/ConvLayer_1/Conv_0 -->\n<g id=\"edge7\" class=\"edge\">\n<title>Sequential_1/ConvLayer_0/MishJit_2&#45;&gt;Sequential_1/ConvLayer_1/Conv_0</title>\n<g id=\"a_edge7\"><a xlink:title=\"0\">\n<path fill=\"none\" stroke=\"#000000\" d=\"M676.0191,-42C684.3303,-42 693.2101,-42 701.7174,-42\"/>\n<polygon fill=\"#000000\" stroke=\"#000000\" points=\"701.8467,-45.5001 711.8467,-42 701.8466,-38.5001 701.8467,-45.5001\"/>\n</a>\n</g>\n</g>\n<!-- Sequential_1/ConvLayer_1/Norm_1 -->\n<g id=\"node8\" class=\"node\">\n<title>Sequential_1/ConvLayer_1/Norm_1</title>\n<g id=\"a_node8\"><a xlink:title=\"BatchNorm2d(64, eps=1e&#45;05, momentum=0.1, affine=True, track_running_stats=True)\">\n<path fill=\"#ffffb3\" stroke=\"#000000\" d=\"M865,-60C865,-60 824,-60 824,-60 818,-60 812,-54 812,-48 812,-48 812,-36 812,-36 812,-30 818,-24 824,-24 824,-24 865,-24 865,-24 871,-24 877,-30 877,-36 877,-36 877,-48 877,-48 877,-54 871,-60 865,-60\"/>\n<text text-anchor=\"middle\" x=\"844.5\" y=\"-38.3\" font-family=\"Times,serif\" font-size=\"14.00\" fill=\"#000000\">Norm_1</text>\n</a>\n</g>\n</g>\n<!-- Sequential_1/ConvLayer_1/Conv_0&#45;&gt;Sequential_1/ConvLayer_1/Norm_1 -->\n<g id=\"edge8\" class=\"edge\">\n<title>Sequential_1/ConvLayer_1/Conv_0&#45;&gt;Sequential_1/ConvLayer_1/Norm_1</title>\n<g id=\"a_edge8\"><a xlink:title=\"0\">\n<path fill=\"none\" stroke=\"#000000\" d=\"M776.0751,-42C784.1615,-42 792.9735,-42 801.501,-42\"/>\n<polygon fill=\"#000000\" stroke=\"#000000\" points=\"801.6936,-45.5001 811.6936,-42 801.6936,-38.5001 801.6936,-45.5001\"/>\n</a>\n</g>\n</g>\n<!-- Sequential_1/ConvLayer_1/MishJit_2 -->\n<g id=\"node9\" class=\"node\">\n<title>Sequential_1/ConvLayer_1/MishJit_2</title>\n<g id=\"a_node9\"><a xlink:title=\"MishJit()\">\n<path fill=\"#fb8072\" stroke=\"#000000\" d=\"M975,-60C975,-60 925,-60 925,-60 919,-60 913,-54 913,-48 913,-48 913,-36 913,-36 913,-30 919,-24 925,-24 925,-24 975,-24 975,-24 981,-24 987,-30 987,-36 987,-36 987,-48 987,-48 987,-54 981,-60 975,-60\"/>\n<text text-anchor=\"middle\" x=\"950\" y=\"-38.3\" font-family=\"Times,serif\" font-size=\"14.00\" fill=\"#000000\">MishJit_2</text>\n</a>\n</g>\n</g>\n<!-- Sequential_1/ConvLayer_1/Norm_1&#45;&gt;Sequential_1/ConvLayer_1/MishJit_2 -->\n<g id=\"edge9\" class=\"edge\">\n<title>Sequential_1/ConvLayer_1/Norm_1&#45;&gt;Sequential_1/ConvLayer_1/MishJit_2</title>\n<g id=\"a_edge9\"><a xlink:title=\"0\">\n<path fill=\"none\" stroke=\"#000000\" d=\"M877.0143,-42C885.1953,-42 894.1417,-42 902.8796,-42\"/>\n<polygon fill=\"#000000\" stroke=\"#000000\" points=\"902.9831,-45.5001 912.9831,-42 902.9831,-38.5001 902.9831,-45.5001\"/>\n</a>\n</g>\n</g>\n<!-- Sequential_1/Maxpool_2 -->\n<g id=\"node10\" class=\"node\">\n<title>Sequential_1/Maxpool_2</title>\n<g id=\"a_node10\"><a xlink:title=\"MaxPool2d(kernel_size=3, stride=2, padding=1, dilation=1, ceil_mode=False)\">\n<path fill=\"#8dd3c7\" stroke=\"#000000\" d=\"M1095,-60C1095,-60 1035,-60 1035,-60 1029,-60 1023,-54 1023,-48 1023,-48 1023,-36 1023,-36 1023,-30 1029,-24 1035,-24 1035,-24 1095,-24 1095,-24 1101,-24 1107,-30 1107,-36 1107,-36 1107,-48 1107,-48 1107,-54 1101,-60 1095,-60\"/>\n<text text-anchor=\"middle\" x=\"1065\" y=\"-38.3\" font-family=\"Times,serif\" font-size=\"14.00\" fill=\"#000000\">Maxpool_2</text>\n</a>\n</g>\n</g>\n<!-- Sequential_1/ConvLayer_1/MishJit_2&#45;&gt;Sequential_1/Maxpool_2 -->\n<g id=\"edge10\" class=\"edge\">\n<title>Sequential_1/ConvLayer_1/MishJit_2&#45;&gt;Sequential_1/Maxpool_2</title>\n<g id=\"a_edge10\"><a xlink:title=\"0\">\n<path fill=\"none\" stroke=\"#000000\" d=\"M987.0197,-42C995.2314,-42 1004.0841,-42 1012.7747,-42\"/>\n<polygon fill=\"#000000\" stroke=\"#000000\" points=\"1012.8542,-45.5001 1022.8542,-42 1012.8541,-38.5001 1012.8542,-45.5001\"/>\n</a>\n</g>\n</g>\n<!-- Sequential_2/ConvLayer_0/Conv_0 -->\n<g id=\"node11\" class=\"node\">\n<title>Sequential_2/ConvLayer_0/Conv_0</title>\n<g id=\"a_node11\"><a xlink:title=\"Conv2d(64, 256, kernel_size=(3, 3), stride=(1, 1), padding=(1, 1), groups=64, bias=False)\">\n<path fill=\"#bebada\" stroke=\"#000000\" d=\"M1195,-60C1195,-60 1155,-60 1155,-60 1149,-60 1143,-54 1143,-48 1143,-48 1143,-36 1143,-36 1143,-30 1149,-24 1155,-24 1155,-24 1195,-24 1195,-24 1201,-24 1207,-30 1207,-36 1207,-36 1207,-48 1207,-48 1207,-54 1201,-60 1195,-60\"/>\n<text text-anchor=\"middle\" x=\"1175\" y=\"-38.3\" font-family=\"Times,serif\" font-size=\"14.00\" fill=\"#000000\">Conv_0</text>\n</a>\n</g>\n</g>\n<!-- Sequential_1/Maxpool_2&#45;&gt;Sequential_2/ConvLayer_0/Conv_0 -->\n<g id=\"edge11\" class=\"edge\">\n<title>Sequential_1/Maxpool_2&#45;&gt;Sequential_2/ConvLayer_0/Conv_0</title>\n<g id=\"a_edge11\"><a xlink:title=\"0\">\n<path fill=\"none\" stroke=\"#000000\" d=\"M1107.2143,-42C1115.6567,-42 1124.5246,-42 1132.9611,-42\"/>\n<polygon fill=\"#000000\" stroke=\"#000000\" points=\"1132.9803,-45.5001 1142.9802,-42 1132.9802,-38.5001 1132.9803,-45.5001\"/>\n</a>\n</g>\n</g>\n<!-- Sequential_2/ConvLayer_0/Norm_1 -->\n<g id=\"node12\" class=\"node\">\n<title>Sequential_2/ConvLayer_0/Norm_1</title>\n<g id=\"a_node12\"><a xlink:title=\"BatchNorm2d(256, eps=1e&#45;05, momentum=0.1, affine=True, track_running_stats=True)\">\n<path fill=\"#ffffb3\" stroke=\"#000000\" d=\"M1296,-60C1296,-60 1255,-60 1255,-60 1249,-60 1243,-54 1243,-48 1243,-48 1243,-36 1243,-36 1243,-30 1249,-24 1255,-24 1255,-24 1296,-24 1296,-24 1302,-24 1308,-30 1308,-36 1308,-36 1308,-48 1308,-48 1308,-54 1302,-60 1296,-60\"/>\n<text text-anchor=\"middle\" x=\"1275.5\" y=\"-38.3\" font-family=\"Times,serif\" font-size=\"14.00\" fill=\"#000000\">Norm_1</text>\n</a>\n</g>\n</g>\n<!-- Sequential_2/ConvLayer_0/Conv_0&#45;&gt;Sequential_2/ConvLayer_0/Norm_1 -->\n<g id=\"edge12\" class=\"edge\">\n<title>Sequential_2/ConvLayer_0/Conv_0&#45;&gt;Sequential_2/ConvLayer_0/Norm_1</title>\n<g id=\"a_edge12\"><a xlink:title=\"0\">\n<path fill=\"none\" stroke=\"#000000\" d=\"M1207.0751,-42C1215.1615,-42 1223.9735,-42 1232.501,-42\"/>\n<polygon fill=\"#000000\" stroke=\"#000000\" points=\"1232.6936,-45.5001 1242.6936,-42 1232.6936,-38.5001 1232.6936,-45.5001\"/>\n</a>\n</g>\n</g>\n<!-- Sequential_2/ConvLayer_0/MishJit_2 -->\n<g id=\"node13\" class=\"node\">\n<title>Sequential_2/ConvLayer_0/MishJit_2</title>\n<g id=\"a_node13\"><a xlink:title=\"MishJit()\">\n<path fill=\"#fb8072\" stroke=\"#000000\" d=\"M1406,-60C1406,-60 1356,-60 1356,-60 1350,-60 1344,-54 1344,-48 1344,-48 1344,-36 1344,-36 1344,-30 1350,-24 1356,-24 1356,-24 1406,-24 1406,-24 1412,-24 1418,-30 1418,-36 1418,-36 1418,-48 1418,-48 1418,-54 1412,-60 1406,-60\"/>\n<text text-anchor=\"middle\" x=\"1381\" y=\"-38.3\" font-family=\"Times,serif\" font-size=\"14.00\" fill=\"#000000\">MishJit_2</text>\n</a>\n</g>\n</g>\n<!-- Sequential_2/ConvLayer_0/Norm_1&#45;&gt;Sequential_2/ConvLayer_0/MishJit_2 -->\n<g id=\"edge13\" class=\"edge\">\n<title>Sequential_2/ConvLayer_0/Norm_1&#45;&gt;Sequential_2/ConvLayer_0/MishJit_2</title>\n<g id=\"a_edge13\"><a xlink:title=\"0\">\n<path fill=\"none\" stroke=\"#000000\" d=\"M1308.0143,-42C1316.1953,-42 1325.1417,-42 1333.8796,-42\"/>\n<polygon fill=\"#000000\" stroke=\"#000000\" points=\"1333.9831,-45.5001 1343.9831,-42 1333.9831,-38.5001 1333.9831,-45.5001\"/>\n</a>\n</g>\n</g>\n<!-- Sequential_2/ConvLayer_1/Conv_0 -->\n<g id=\"node14\" class=\"node\">\n<title>Sequential_2/ConvLayer_1/Conv_0</title>\n<g id=\"a_node14\"><a xlink:title=\"Conv2d(256, 128, kernel_size=(3, 3), stride=(1, 1), padding=(1, 1), bias=False)\">\n<path fill=\"#bebada\" stroke=\"#000000\" d=\"M1506,-60C1506,-60 1466,-60 1466,-60 1460,-60 1454,-54 1454,-48 1454,-48 1454,-36 1454,-36 1454,-30 1460,-24 1466,-24 1466,-24 1506,-24 1506,-24 1512,-24 1518,-30 1518,-36 1518,-36 1518,-48 1518,-48 1518,-54 1512,-60 1506,-60\"/>\n<text text-anchor=\"middle\" x=\"1486\" y=\"-38.3\" font-family=\"Times,serif\" font-size=\"14.00\" fill=\"#000000\">Conv_0</text>\n</a>\n</g>\n</g>\n<!-- Sequential_2/ConvLayer_0/MishJit_2&#45;&gt;Sequential_2/ConvLayer_1/Conv_0 -->\n<g id=\"edge14\" class=\"edge\">\n<title>Sequential_2/ConvLayer_0/MishJit_2&#45;&gt;Sequential_2/ConvLayer_1/Conv_0</title>\n<g id=\"a_edge14\"><a xlink:title=\"0\">\n<path fill=\"none\" stroke=\"#000000\" d=\"M1418.0191,-42C1426.3303,-42 1435.2101,-42 1443.7174,-42\"/>\n<polygon fill=\"#000000\" stroke=\"#000000\" points=\"1443.8467,-45.5001 1453.8467,-42 1443.8466,-38.5001 1443.8467,-45.5001\"/>\n</a>\n</g>\n</g>\n<!-- Sequential_2/ConvLayer_1/Norm_1 -->\n<g id=\"node15\" class=\"node\">\n<title>Sequential_2/ConvLayer_1/Norm_1</title>\n<g id=\"a_node15\"><a xlink:title=\"BatchNorm2d(128, eps=1e&#45;05, momentum=0.1, affine=True, track_running_stats=True)\">\n<path fill=\"#ffffb3\" stroke=\"#000000\" d=\"M1607,-60C1607,-60 1566,-60 1566,-60 1560,-60 1554,-54 1554,-48 1554,-48 1554,-36 1554,-36 1554,-30 1560,-24 1566,-24 1566,-24 1607,-24 1607,-24 1613,-24 1619,-30 1619,-36 1619,-36 1619,-48 1619,-48 1619,-54 1613,-60 1607,-60\"/>\n<text text-anchor=\"middle\" x=\"1586.5\" y=\"-38.3\" font-family=\"Times,serif\" font-size=\"14.00\" fill=\"#000000\">Norm_1</text>\n</a>\n</g>\n</g>\n<!-- Sequential_2/ConvLayer_1/Conv_0&#45;&gt;Sequential_2/ConvLayer_1/Norm_1 -->\n<g id=\"edge15\" class=\"edge\">\n<title>Sequential_2/ConvLayer_1/Conv_0&#45;&gt;Sequential_2/ConvLayer_1/Norm_1</title>\n<g id=\"a_edge15\"><a xlink:title=\"0\">\n<path fill=\"none\" stroke=\"#000000\" d=\"M1518.0751,-42C1526.1615,-42 1534.9735,-42 1543.501,-42\"/>\n<polygon fill=\"#000000\" stroke=\"#000000\" points=\"1543.6936,-45.5001 1553.6936,-42 1543.6936,-38.5001 1543.6936,-45.5001\"/>\n</a>\n</g>\n</g>\n<!-- Sequential_2/ConvLayer_1/MishJit_2 -->\n<g id=\"node16\" class=\"node\">\n<title>Sequential_2/ConvLayer_1/MishJit_2</title>\n<g id=\"a_node16\"><a xlink:title=\"MishJit()\">\n<path fill=\"#fb8072\" stroke=\"#000000\" d=\"M1717,-60C1717,-60 1667,-60 1667,-60 1661,-60 1655,-54 1655,-48 1655,-48 1655,-36 1655,-36 1655,-30 1661,-24 1667,-24 1667,-24 1717,-24 1717,-24 1723,-24 1729,-30 1729,-36 1729,-36 1729,-48 1729,-48 1729,-54 1723,-60 1717,-60\"/>\n<text text-anchor=\"middle\" x=\"1692\" y=\"-38.3\" font-family=\"Times,serif\" font-size=\"14.00\" fill=\"#000000\">MishJit_2</text>\n</a>\n</g>\n</g>\n<!-- Sequential_2/ConvLayer_1/Norm_1&#45;&gt;Sequential_2/ConvLayer_1/MishJit_2 -->\n<g id=\"edge16\" class=\"edge\">\n<title>Sequential_2/ConvLayer_1/Norm_1&#45;&gt;Sequential_2/ConvLayer_1/MishJit_2</title>\n<g id=\"a_edge16\"><a xlink:title=\"0\">\n<path fill=\"none\" stroke=\"#000000\" d=\"M1619.0143,-42C1627.1953,-42 1636.1417,-42 1644.8796,-42\"/>\n<polygon fill=\"#000000\" stroke=\"#000000\" points=\"1644.9831,-45.5001 1654.9831,-42 1644.9831,-38.5001 1644.9831,-45.5001\"/>\n</a>\n</g>\n</g>\n<!-- Sequential_2/Maxpool_2 -->\n<g id=\"node17\" class=\"node\">\n<title>Sequential_2/Maxpool_2</title>\n<g id=\"a_node17\"><a xlink:title=\"MaxPool2d(kernel_size=3, stride=2, padding=1, dilation=1, ceil_mode=False)\">\n<path fill=\"#8dd3c7\" stroke=\"#000000\" d=\"M1837,-60C1837,-60 1777,-60 1777,-60 1771,-60 1765,-54 1765,-48 1765,-48 1765,-36 1765,-36 1765,-30 1771,-24 1777,-24 1777,-24 1837,-24 1837,-24 1843,-24 1849,-30 1849,-36 1849,-36 1849,-48 1849,-48 1849,-54 1843,-60 1837,-60\"/>\n<text text-anchor=\"middle\" x=\"1807\" y=\"-38.3\" font-family=\"Times,serif\" font-size=\"14.00\" fill=\"#000000\">Maxpool_2</text>\n</a>\n</g>\n</g>\n<!-- Sequential_2/ConvLayer_1/MishJit_2&#45;&gt;Sequential_2/Maxpool_2 -->\n<g id=\"edge17\" class=\"edge\">\n<title>Sequential_2/ConvLayer_1/MishJit_2&#45;&gt;Sequential_2/Maxpool_2</title>\n<g id=\"a_edge17\"><a xlink:title=\"0\">\n<path fill=\"none\" stroke=\"#000000\" d=\"M1729.0197,-42C1737.2314,-42 1746.0841,-42 1754.7747,-42\"/>\n<polygon fill=\"#000000\" stroke=\"#000000\" points=\"1754.8542,-45.5001 1764.8542,-42 1754.8541,-38.5001 1754.8542,-45.5001\"/>\n</a>\n</g>\n</g>\n<!-- Sequential_3/ConvLayer_0/Conv_0 -->\n<g id=\"node18\" class=\"node\">\n<title>Sequential_3/ConvLayer_0/Conv_0</title>\n<g id=\"a_node18\"><a xlink:title=\"Conv2d(128, 512, kernel_size=(3, 3), stride=(1, 1), padding=(1, 1), groups=128, bias=False)\">\n<path fill=\"#bebada\" stroke=\"#000000\" d=\"M1937,-60C1937,-60 1897,-60 1897,-60 1891,-60 1885,-54 1885,-48 1885,-48 1885,-36 1885,-36 1885,-30 1891,-24 1897,-24 1897,-24 1937,-24 1937,-24 1943,-24 1949,-30 1949,-36 1949,-36 1949,-48 1949,-48 1949,-54 1943,-60 1937,-60\"/>\n<text text-anchor=\"middle\" x=\"1917\" y=\"-38.3\" font-family=\"Times,serif\" font-size=\"14.00\" fill=\"#000000\">Conv_0</text>\n</a>\n</g>\n</g>\n<!-- Sequential_2/Maxpool_2&#45;&gt;Sequential_3/ConvLayer_0/Conv_0 -->\n<g id=\"edge18\" class=\"edge\">\n<title>Sequential_2/Maxpool_2&#45;&gt;Sequential_3/ConvLayer_0/Conv_0</title>\n<g id=\"a_edge18\"><a xlink:title=\"0\">\n<path fill=\"none\" stroke=\"#000000\" d=\"M1849.2143,-42C1857.6567,-42 1866.5246,-42 1874.9611,-42\"/>\n<polygon fill=\"#000000\" stroke=\"#000000\" points=\"1874.9803,-45.5001 1884.9802,-42 1874.9802,-38.5001 1874.9803,-45.5001\"/>\n</a>\n</g>\n</g>\n<!-- Sequential_3/ConvLayer_0/Norm_1 -->\n<g id=\"node19\" class=\"node\">\n<title>Sequential_3/ConvLayer_0/Norm_1</title>\n<g id=\"a_node19\"><a xlink:title=\"BatchNorm2d(512, eps=1e&#45;05, momentum=0.1, affine=True, track_running_stats=True)\">\n<path fill=\"#ffffb3\" stroke=\"#000000\" d=\"M2038,-60C2038,-60 1997,-60 1997,-60 1991,-60 1985,-54 1985,-48 1985,-48 1985,-36 1985,-36 1985,-30 1991,-24 1997,-24 1997,-24 2038,-24 2038,-24 2044,-24 2050,-30 2050,-36 2050,-36 2050,-48 2050,-48 2050,-54 2044,-60 2038,-60\"/>\n<text text-anchor=\"middle\" x=\"2017.5\" y=\"-38.3\" font-family=\"Times,serif\" font-size=\"14.00\" fill=\"#000000\">Norm_1</text>\n</a>\n</g>\n</g>\n<!-- Sequential_3/ConvLayer_0/Conv_0&#45;&gt;Sequential_3/ConvLayer_0/Norm_1 -->\n<g id=\"edge19\" class=\"edge\">\n<title>Sequential_3/ConvLayer_0/Conv_0&#45;&gt;Sequential_3/ConvLayer_0/Norm_1</title>\n<g id=\"a_edge19\"><a xlink:title=\"0\">\n<path fill=\"none\" stroke=\"#000000\" d=\"M1949.0751,-42C1957.1615,-42 1965.9735,-42 1974.501,-42\"/>\n<polygon fill=\"#000000\" stroke=\"#000000\" points=\"1974.6936,-45.5001 1984.6936,-42 1974.6936,-38.5001 1974.6936,-45.5001\"/>\n</a>\n</g>\n</g>\n<!-- Sequential_3/ConvLayer_0/MishJit_2 -->\n<g id=\"node20\" class=\"node\">\n<title>Sequential_3/ConvLayer_0/MishJit_2</title>\n<g id=\"a_node20\"><a xlink:title=\"MishJit()\">\n<path fill=\"#fb8072\" stroke=\"#000000\" d=\"M2148,-60C2148,-60 2098,-60 2098,-60 2092,-60 2086,-54 2086,-48 2086,-48 2086,-36 2086,-36 2086,-30 2092,-24 2098,-24 2098,-24 2148,-24 2148,-24 2154,-24 2160,-30 2160,-36 2160,-36 2160,-48 2160,-48 2160,-54 2154,-60 2148,-60\"/>\n<text text-anchor=\"middle\" x=\"2123\" y=\"-38.3\" font-family=\"Times,serif\" font-size=\"14.00\" fill=\"#000000\">MishJit_2</text>\n</a>\n</g>\n</g>\n<!-- Sequential_3/ConvLayer_0/Norm_1&#45;&gt;Sequential_3/ConvLayer_0/MishJit_2 -->\n<g id=\"edge20\" class=\"edge\">\n<title>Sequential_3/ConvLayer_0/Norm_1&#45;&gt;Sequential_3/ConvLayer_0/MishJit_2</title>\n<g id=\"a_edge20\"><a xlink:title=\"0\">\n<path fill=\"none\" stroke=\"#000000\" d=\"M2050.0143,-42C2058.1953,-42 2067.1417,-42 2075.8796,-42\"/>\n<polygon fill=\"#000000\" stroke=\"#000000\" points=\"2075.9831,-45.5001 2085.9831,-42 2075.9831,-38.5001 2075.9831,-45.5001\"/>\n</a>\n</g>\n</g>\n<!-- Sequential_3/ConvLayer_1/Conv_0 -->\n<g id=\"node21\" class=\"node\">\n<title>Sequential_3/ConvLayer_1/Conv_0</title>\n<g id=\"a_node21\"><a xlink:title=\"Conv2d(512, 256, kernel_size=(3, 3), stride=(1, 1), padding=(1, 1), bias=False)\">\n<path fill=\"#bebada\" stroke=\"#000000\" d=\"M2248,-60C2248,-60 2208,-60 2208,-60 2202,-60 2196,-54 2196,-48 2196,-48 2196,-36 2196,-36 2196,-30 2202,-24 2208,-24 2208,-24 2248,-24 2248,-24 2254,-24 2260,-30 2260,-36 2260,-36 2260,-48 2260,-48 2260,-54 2254,-60 2248,-60\"/>\n<text text-anchor=\"middle\" x=\"2228\" y=\"-38.3\" font-family=\"Times,serif\" font-size=\"14.00\" fill=\"#000000\">Conv_0</text>\n</a>\n</g>\n</g>\n<!-- Sequential_3/ConvLayer_0/MishJit_2&#45;&gt;Sequential_3/ConvLayer_1/Conv_0 -->\n<g id=\"edge21\" class=\"edge\">\n<title>Sequential_3/ConvLayer_0/MishJit_2&#45;&gt;Sequential_3/ConvLayer_1/Conv_0</title>\n<g id=\"a_edge21\"><a xlink:title=\"0\">\n<path fill=\"none\" stroke=\"#000000\" d=\"M2160.0191,-42C2168.3303,-42 2177.2101,-42 2185.7174,-42\"/>\n<polygon fill=\"#000000\" stroke=\"#000000\" points=\"2185.8467,-45.5001 2195.8467,-42 2185.8466,-38.5001 2185.8467,-45.5001\"/>\n</a>\n</g>\n</g>\n<!-- Sequential_3/ConvLayer_1/Norm_1 -->\n<g id=\"node22\" class=\"node\">\n<title>Sequential_3/ConvLayer_1/Norm_1</title>\n<g id=\"a_node22\"><a xlink:title=\"BatchNorm2d(256, eps=1e&#45;05, momentum=0.1, affine=True, track_running_stats=True)\">\n<path fill=\"#ffffb3\" stroke=\"#000000\" d=\"M2349,-60C2349,-60 2308,-60 2308,-60 2302,-60 2296,-54 2296,-48 2296,-48 2296,-36 2296,-36 2296,-30 2302,-24 2308,-24 2308,-24 2349,-24 2349,-24 2355,-24 2361,-30 2361,-36 2361,-36 2361,-48 2361,-48 2361,-54 2355,-60 2349,-60\"/>\n<text text-anchor=\"middle\" x=\"2328.5\" y=\"-38.3\" font-family=\"Times,serif\" font-size=\"14.00\" fill=\"#000000\">Norm_1</text>\n</a>\n</g>\n</g>\n<!-- Sequential_3/ConvLayer_1/Conv_0&#45;&gt;Sequential_3/ConvLayer_1/Norm_1 -->\n<g id=\"edge22\" class=\"edge\">\n<title>Sequential_3/ConvLayer_1/Conv_0&#45;&gt;Sequential_3/ConvLayer_1/Norm_1</title>\n<g id=\"a_edge22\"><a xlink:title=\"0\">\n<path fill=\"none\" stroke=\"#000000\" d=\"M2260.0751,-42C2268.1615,-42 2276.9735,-42 2285.501,-42\"/>\n<polygon fill=\"#000000\" stroke=\"#000000\" points=\"2285.6936,-45.5001 2295.6936,-42 2285.6936,-38.5001 2285.6936,-45.5001\"/>\n</a>\n</g>\n</g>\n<!-- Sequential_3/ConvLayer_1/MishJit_2 -->\n<g id=\"node23\" class=\"node\">\n<title>Sequential_3/ConvLayer_1/MishJit_2</title>\n<g id=\"a_node23\"><a xlink:title=\"MishJit()\">\n<path fill=\"#fb8072\" stroke=\"#000000\" d=\"M2459,-60C2459,-60 2409,-60 2409,-60 2403,-60 2397,-54 2397,-48 2397,-48 2397,-36 2397,-36 2397,-30 2403,-24 2409,-24 2409,-24 2459,-24 2459,-24 2465,-24 2471,-30 2471,-36 2471,-36 2471,-48 2471,-48 2471,-54 2465,-60 2459,-60\"/>\n<text text-anchor=\"middle\" x=\"2434\" y=\"-38.3\" font-family=\"Times,serif\" font-size=\"14.00\" fill=\"#000000\">MishJit_2</text>\n</a>\n</g>\n</g>\n<!-- Sequential_3/ConvLayer_1/Norm_1&#45;&gt;Sequential_3/ConvLayer_1/MishJit_2 -->\n<g id=\"edge23\" class=\"edge\">\n<title>Sequential_3/ConvLayer_1/Norm_1&#45;&gt;Sequential_3/ConvLayer_1/MishJit_2</title>\n<g id=\"a_edge23\"><a xlink:title=\"0\">\n<path fill=\"none\" stroke=\"#000000\" d=\"M2361.0143,-42C2369.1953,-42 2378.1417,-42 2386.8796,-42\"/>\n<polygon fill=\"#000000\" stroke=\"#000000\" points=\"2386.9831,-45.5001 2396.9831,-42 2386.9831,-38.5001 2386.9831,-45.5001\"/>\n</a>\n</g>\n</g>\n<!-- Sequential_3/Maxpool_2 -->\n<g id=\"node24\" class=\"node\">\n<title>Sequential_3/Maxpool_2</title>\n<g id=\"a_node24\"><a xlink:title=\"MaxPool2d(kernel_size=3, stride=2, padding=1, dilation=1, ceil_mode=False)\">\n<path fill=\"#8dd3c7\" stroke=\"#000000\" d=\"M2579,-60C2579,-60 2519,-60 2519,-60 2513,-60 2507,-54 2507,-48 2507,-48 2507,-36 2507,-36 2507,-30 2513,-24 2519,-24 2519,-24 2579,-24 2579,-24 2585,-24 2591,-30 2591,-36 2591,-36 2591,-48 2591,-48 2591,-54 2585,-60 2579,-60\"/>\n<text text-anchor=\"middle\" x=\"2549\" y=\"-38.3\" font-family=\"Times,serif\" font-size=\"14.00\" fill=\"#000000\">Maxpool_2</text>\n</a>\n</g>\n</g>\n<!-- Sequential_3/ConvLayer_1/MishJit_2&#45;&gt;Sequential_3/Maxpool_2 -->\n<g id=\"edge24\" class=\"edge\">\n<title>Sequential_3/ConvLayer_1/MishJit_2&#45;&gt;Sequential_3/Maxpool_2</title>\n<g id=\"a_edge24\"><a xlink:title=\"0\">\n<path fill=\"none\" stroke=\"#000000\" d=\"M2471.0197,-42C2479.2314,-42 2488.0841,-42 2496.7747,-42\"/>\n<polygon fill=\"#000000\" stroke=\"#000000\" points=\"2496.8542,-45.5001 2506.8542,-42 2496.8541,-38.5001 2496.8542,-45.5001\"/>\n</a>\n</g>\n</g>\n<!-- Sequential_4/ConvLayer_0/Conv_0 -->\n<g id=\"node25\" class=\"node\">\n<title>Sequential_4/ConvLayer_0/Conv_0</title>\n<g id=\"a_node25\"><a xlink:title=\"Conv2d(256, 1024, kernel_size=(3, 3), stride=(1, 1), padding=(1, 1), groups=256, bias=False)\">\n<path fill=\"#bebada\" stroke=\"#000000\" d=\"M2679,-60C2679,-60 2639,-60 2639,-60 2633,-60 2627,-54 2627,-48 2627,-48 2627,-36 2627,-36 2627,-30 2633,-24 2639,-24 2639,-24 2679,-24 2679,-24 2685,-24 2691,-30 2691,-36 2691,-36 2691,-48 2691,-48 2691,-54 2685,-60 2679,-60\"/>\n<text text-anchor=\"middle\" x=\"2659\" y=\"-38.3\" font-family=\"Times,serif\" font-size=\"14.00\" fill=\"#000000\">Conv_0</text>\n</a>\n</g>\n</g>\n<!-- Sequential_3/Maxpool_2&#45;&gt;Sequential_4/ConvLayer_0/Conv_0 -->\n<g id=\"edge25\" class=\"edge\">\n<title>Sequential_3/Maxpool_2&#45;&gt;Sequential_4/ConvLayer_0/Conv_0</title>\n<g id=\"a_edge25\"><a xlink:title=\"0\">\n<path fill=\"none\" stroke=\"#000000\" d=\"M2591.2143,-42C2599.6567,-42 2608.5246,-42 2616.9611,-42\"/>\n<polygon fill=\"#000000\" stroke=\"#000000\" points=\"2616.9803,-45.5001 2626.9802,-42 2616.9802,-38.5001 2616.9803,-45.5001\"/>\n</a>\n</g>\n</g>\n<!-- Sequential_4/ConvLayer_0/Norm_1 -->\n<g id=\"node26\" class=\"node\">\n<title>Sequential_4/ConvLayer_0/Norm_1</title>\n<g id=\"a_node26\"><a xlink:title=\"BatchNorm2d(1024, eps=1e&#45;05, momentum=0.1, affine=True, track_running_stats=True)\">\n<path fill=\"#ffffb3\" stroke=\"#000000\" d=\"M2780,-60C2780,-60 2739,-60 2739,-60 2733,-60 2727,-54 2727,-48 2727,-48 2727,-36 2727,-36 2727,-30 2733,-24 2739,-24 2739,-24 2780,-24 2780,-24 2786,-24 2792,-30 2792,-36 2792,-36 2792,-48 2792,-48 2792,-54 2786,-60 2780,-60\"/>\n<text text-anchor=\"middle\" x=\"2759.5\" y=\"-38.3\" font-family=\"Times,serif\" font-size=\"14.00\" fill=\"#000000\">Norm_1</text>\n</a>\n</g>\n</g>\n<!-- Sequential_4/ConvLayer_0/Conv_0&#45;&gt;Sequential_4/ConvLayer_0/Norm_1 -->\n<g id=\"edge26\" class=\"edge\">\n<title>Sequential_4/ConvLayer_0/Conv_0&#45;&gt;Sequential_4/ConvLayer_0/Norm_1</title>\n<g id=\"a_edge26\"><a xlink:title=\"0\">\n<path fill=\"none\" stroke=\"#000000\" d=\"M2691.0751,-42C2699.1615,-42 2707.9735,-42 2716.501,-42\"/>\n<polygon fill=\"#000000\" stroke=\"#000000\" points=\"2716.6936,-45.5001 2726.6936,-42 2716.6936,-38.5001 2716.6936,-45.5001\"/>\n</a>\n</g>\n</g>\n<!-- Sequential_4/ConvLayer_0/MishJit_2 -->\n<g id=\"node27\" class=\"node\">\n<title>Sequential_4/ConvLayer_0/MishJit_2</title>\n<g id=\"a_node27\"><a xlink:title=\"MishJit()\">\n<path fill=\"#fb8072\" stroke=\"#000000\" d=\"M2890,-60C2890,-60 2840,-60 2840,-60 2834,-60 2828,-54 2828,-48 2828,-48 2828,-36 2828,-36 2828,-30 2834,-24 2840,-24 2840,-24 2890,-24 2890,-24 2896,-24 2902,-30 2902,-36 2902,-36 2902,-48 2902,-48 2902,-54 2896,-60 2890,-60\"/>\n<text text-anchor=\"middle\" x=\"2865\" y=\"-38.3\" font-family=\"Times,serif\" font-size=\"14.00\" fill=\"#000000\">MishJit_2</text>\n</a>\n</g>\n</g>\n<!-- Sequential_4/ConvLayer_0/Norm_1&#45;&gt;Sequential_4/ConvLayer_0/MishJit_2 -->\n<g id=\"edge27\" class=\"edge\">\n<title>Sequential_4/ConvLayer_0/Norm_1&#45;&gt;Sequential_4/ConvLayer_0/MishJit_2</title>\n<g id=\"a_edge27\"><a xlink:title=\"0\">\n<path fill=\"none\" stroke=\"#000000\" d=\"M2792.0143,-42C2800.1953,-42 2809.1417,-42 2817.8796,-42\"/>\n<polygon fill=\"#000000\" stroke=\"#000000\" points=\"2817.9831,-45.5001 2827.9831,-42 2817.9831,-38.5001 2817.9831,-45.5001\"/>\n</a>\n</g>\n</g>\n<!-- Sequential_4/ConvLayer_1/Conv_0 -->\n<g id=\"node28\" class=\"node\">\n<title>Sequential_4/ConvLayer_1/Conv_0</title>\n<g id=\"a_node28\"><a xlink:title=\"Conv2d(1024, 512, kernel_size=(3, 3), stride=(1, 1), padding=(1, 1), bias=False)\">\n<path fill=\"#bebada\" stroke=\"#000000\" d=\"M2990,-60C2990,-60 2950,-60 2950,-60 2944,-60 2938,-54 2938,-48 2938,-48 2938,-36 2938,-36 2938,-30 2944,-24 2950,-24 2950,-24 2990,-24 2990,-24 2996,-24 3002,-30 3002,-36 3002,-36 3002,-48 3002,-48 3002,-54 2996,-60 2990,-60\"/>\n<text text-anchor=\"middle\" x=\"2970\" y=\"-38.3\" font-family=\"Times,serif\" font-size=\"14.00\" fill=\"#000000\">Conv_0</text>\n</a>\n</g>\n</g>\n<!-- Sequential_4/ConvLayer_0/MishJit_2&#45;&gt;Sequential_4/ConvLayer_1/Conv_0 -->\n<g id=\"edge28\" class=\"edge\">\n<title>Sequential_4/ConvLayer_0/MishJit_2&#45;&gt;Sequential_4/ConvLayer_1/Conv_0</title>\n<g id=\"a_edge28\"><a xlink:title=\"0\">\n<path fill=\"none\" stroke=\"#000000\" d=\"M2902.0191,-42C2910.3303,-42 2919.2101,-42 2927.7174,-42\"/>\n<polygon fill=\"#000000\" stroke=\"#000000\" points=\"2927.8467,-45.5001 2937.8467,-42 2927.8466,-38.5001 2927.8467,-45.5001\"/>\n</a>\n</g>\n</g>\n<!-- Sequential_4/ConvLayer_1/Norm_1 -->\n<g id=\"node29\" class=\"node\">\n<title>Sequential_4/ConvLayer_1/Norm_1</title>\n<g id=\"a_node29\"><a xlink:title=\"BatchNorm2d(512, eps=1e&#45;05, momentum=0.1, affine=True, track_running_stats=True)\">\n<path fill=\"#ffffb3\" stroke=\"#000000\" d=\"M3091,-60C3091,-60 3050,-60 3050,-60 3044,-60 3038,-54 3038,-48 3038,-48 3038,-36 3038,-36 3038,-30 3044,-24 3050,-24 3050,-24 3091,-24 3091,-24 3097,-24 3103,-30 3103,-36 3103,-36 3103,-48 3103,-48 3103,-54 3097,-60 3091,-60\"/>\n<text text-anchor=\"middle\" x=\"3070.5\" y=\"-38.3\" font-family=\"Times,serif\" font-size=\"14.00\" fill=\"#000000\">Norm_1</text>\n</a>\n</g>\n</g>\n<!-- Sequential_4/ConvLayer_1/Conv_0&#45;&gt;Sequential_4/ConvLayer_1/Norm_1 -->\n<g id=\"edge29\" class=\"edge\">\n<title>Sequential_4/ConvLayer_1/Conv_0&#45;&gt;Sequential_4/ConvLayer_1/Norm_1</title>\n<g id=\"a_edge29\"><a xlink:title=\"0\">\n<path fill=\"none\" stroke=\"#000000\" d=\"M3002.0751,-42C3010.1615,-42 3018.9735,-42 3027.501,-42\"/>\n<polygon fill=\"#000000\" stroke=\"#000000\" points=\"3027.6936,-45.5001 3037.6936,-42 3027.6936,-38.5001 3027.6936,-45.5001\"/>\n</a>\n</g>\n</g>\n<!-- Sequential_4/ConvLayer_1/MishJit_2 -->\n<g id=\"node30\" class=\"node\">\n<title>Sequential_4/ConvLayer_1/MishJit_2</title>\n<g id=\"a_node30\"><a xlink:title=\"MishJit()\">\n<path fill=\"#fb8072\" stroke=\"#000000\" d=\"M3201,-60C3201,-60 3151,-60 3151,-60 3145,-60 3139,-54 3139,-48 3139,-48 3139,-36 3139,-36 3139,-30 3145,-24 3151,-24 3151,-24 3201,-24 3201,-24 3207,-24 3213,-30 3213,-36 3213,-36 3213,-48 3213,-48 3213,-54 3207,-60 3201,-60\"/>\n<text text-anchor=\"middle\" x=\"3176\" y=\"-38.3\" font-family=\"Times,serif\" font-size=\"14.00\" fill=\"#000000\">MishJit_2</text>\n</a>\n</g>\n</g>\n<!-- Sequential_4/ConvLayer_1/Norm_1&#45;&gt;Sequential_4/ConvLayer_1/MishJit_2 -->\n<g id=\"edge30\" class=\"edge\">\n<title>Sequential_4/ConvLayer_1/Norm_1&#45;&gt;Sequential_4/ConvLayer_1/MishJit_2</title>\n<g id=\"a_edge30\"><a xlink:title=\"0\">\n<path fill=\"none\" stroke=\"#000000\" d=\"M3103.0143,-42C3111.1953,-42 3120.1417,-42 3128.8796,-42\"/>\n<polygon fill=\"#000000\" stroke=\"#000000\" points=\"3128.9831,-45.5001 3138.9831,-42 3128.9831,-38.5001 3128.9831,-45.5001\"/>\n</a>\n</g>\n</g>\n<!-- Sequential_4/Maxpool_2 -->\n<g id=\"node31\" class=\"node\">\n<title>Sequential_4/Maxpool_2</title>\n<g id=\"a_node31\"><a xlink:title=\"MaxPool2d(kernel_size=3, stride=2, padding=1, dilation=1, ceil_mode=False)\">\n<path fill=\"#8dd3c7\" stroke=\"#000000\" d=\"M3321,-60C3321,-60 3261,-60 3261,-60 3255,-60 3249,-54 3249,-48 3249,-48 3249,-36 3249,-36 3249,-30 3255,-24 3261,-24 3261,-24 3321,-24 3321,-24 3327,-24 3333,-30 3333,-36 3333,-36 3333,-48 3333,-48 3333,-54 3327,-60 3321,-60\"/>\n<text text-anchor=\"middle\" x=\"3291\" y=\"-38.3\" font-family=\"Times,serif\" font-size=\"14.00\" fill=\"#000000\">Maxpool_2</text>\n</a>\n</g>\n</g>\n<!-- Sequential_4/ConvLayer_1/MishJit_2&#45;&gt;Sequential_4/Maxpool_2 -->\n<g id=\"edge31\" class=\"edge\">\n<title>Sequential_4/ConvLayer_1/MishJit_2&#45;&gt;Sequential_4/Maxpool_2</title>\n<g id=\"a_edge31\"><a xlink:title=\"0\">\n<path fill=\"none\" stroke=\"#000000\" d=\"M3213.0197,-42C3221.2314,-42 3230.0841,-42 3238.7747,-42\"/>\n<polygon fill=\"#000000\" stroke=\"#000000\" points=\"3238.8542,-45.5001 3248.8542,-42 3238.8541,-38.5001 3238.8542,-45.5001\"/>\n</a>\n</g>\n</g>\n<!-- Avgpool_5 -->\n<g id=\"node32\" class=\"node\">\n<title>Avgpool_5</title>\n<g id=\"a_node32\"><a xlink:title=\"AdaptiveAvgPool2d(output_size=1)\">\n<path fill=\"#b3de69\" stroke=\"#000000\" d=\"M3440,-60C3440,-60 3381,-60 3381,-60 3375,-60 3369,-54 3369,-48 3369,-48 3369,-36 3369,-36 3369,-30 3375,-24 3381,-24 3381,-24 3440,-24 3440,-24 3446,-24 3452,-30 3452,-36 3452,-36 3452,-48 3452,-48 3452,-54 3446,-60 3440,-60\"/>\n<text text-anchor=\"middle\" x=\"3410.5\" y=\"-38.3\" font-family=\"Times,serif\" font-size=\"14.00\" fill=\"#000000\">Avgpool_5</text>\n</a>\n</g>\n</g>\n<!-- Sequential_4/Maxpool_2&#45;&gt;Avgpool_5 -->\n<g id=\"edge32\" class=\"edge\">\n<title>Sequential_4/Maxpool_2&#45;&gt;Avgpool_5</title>\n<g id=\"a_edge32\"><a xlink:title=\"0\">\n<path fill=\"none\" stroke=\"#000000\" d=\"M3333.1312,-42C3341.3481,-42 3350.0533,-42 3358.5447,-42\"/>\n<polygon fill=\"#000000\" stroke=\"#000000\" points=\"3358.7493,-45.5001 3368.7493,-42 3358.7492,-38.5001 3358.7493,-45.5001\"/>\n</a>\n</g>\n</g>\n<!-- Flatten_6 -->\n<g id=\"node33\" class=\"node\">\n<title>Flatten_6</title>\n<g id=\"a_node33\"><a xlink:title=\"Flatten()\">\n<path fill=\"#fccde5\" stroke=\"#000000\" d=\"M3547,-60C3547,-60 3500,-60 3500,-60 3494,-60 3488,-54 3488,-48 3488,-48 3488,-36 3488,-36 3488,-30 3494,-24 3500,-24 3500,-24 3547,-24 3547,-24 3553,-24 3559,-30 3559,-36 3559,-36 3559,-48 3559,-48 3559,-54 3553,-60 3547,-60\"/>\n<text text-anchor=\"middle\" x=\"3523.5\" y=\"-38.3\" font-family=\"Times,serif\" font-size=\"14.00\" fill=\"#000000\">Flatten_6</text>\n</a>\n</g>\n</g>\n<!-- Avgpool_5&#45;&gt;Flatten_6 -->\n<g id=\"edge33\" class=\"edge\">\n<title>Avgpool_5&#45;&gt;Flatten_6</title>\n<g id=\"a_edge33\"><a xlink:title=\"0\">\n<path fill=\"none\" stroke=\"#000000\" d=\"M3452.256,-42C3460.5696,-42 3469.3411,-42 3477.7794,-42\"/>\n<polygon fill=\"#000000\" stroke=\"#000000\" points=\"3477.854,-45.5001 3487.854,-42 3477.8539,-38.5001 3477.854,-45.5001\"/>\n</a>\n</g>\n</g>\n<!-- Linear_7 -->\n<g id=\"node34\" class=\"node\">\n<title>Linear_7</title>\n<g id=\"a_node34\"><a xlink:title=\"Linear(in_features=512, out_features=10, bias=True)\">\n<path fill=\"#bc80bd\" stroke=\"#000000\" d=\"M3651,-60C3651,-60 3607,-60 3607,-60 3601,-60 3595,-54 3595,-48 3595,-48 3595,-36 3595,-36 3595,-30 3601,-24 3607,-24 3607,-24 3651,-24 3651,-24 3657,-24 3663,-30 3663,-36 3663,-36 3663,-48 3663,-48 3663,-54 3657,-60 3651,-60\"/>\n<text text-anchor=\"middle\" x=\"3629\" y=\"-38.3\" font-family=\"Times,serif\" font-size=\"14.00\" fill=\"#000000\">Linear_7</text>\n</a>\n</g>\n</g>\n<!-- Flatten_6&#45;&gt;Linear_7 -->\n<g id=\"edge34\" class=\"edge\">\n<title>Flatten_6&#45;&gt;Linear_7</title>\n<g id=\"a_edge34\"><a xlink:title=\"0\">\n<path fill=\"none\" stroke=\"#000000\" d=\"M3559.2175,-42C3567.3772,-42 3576.146,-42 3584.6192,-42\"/>\n<polygon fill=\"#000000\" stroke=\"#000000\" points=\"3584.7472,-45.5001 3594.7472,-42 3584.7471,-38.5001 3584.7472,-45.5001\"/>\n</a>\n</g>\n</g>\n<!-- 0 -->\n<g id=\"node35\" class=\"node\">\n<title>0</title>\n<path fill=\"#ffffff\" stroke=\"#000000\" d=\"M42,-60C42,-60 12,-60 12,-60 6,-60 0,-54 0,-48 0,-48 0,-36 0,-36 0,-30 6,-24 12,-24 12,-24 42,-24 42,-24 48,-24 54,-30 54,-36 54,-36 54,-48 54,-48 54,-54 48,-60 42,-60\"/>\n<text text-anchor=\"middle\" x=\"27\" y=\"-38.3\" font-family=\"Times,serif\" font-size=\"14.00\" fill=\"#000000\">0</text>\n</g>\n<!-- 0&#45;&gt;ConvLayer_0/Conv_0 -->\n<g id=\"edge1\" class=\"edge\">\n<title>0&#45;&gt;ConvLayer_0/Conv_0</title>\n<g id=\"a_edge1\"><a xlink:title=\"0\">\n<path fill=\"none\" stroke=\"#000000\" d=\"M54.2232,-42C62.0971,-42 70.8862,-42 79.4575,-42\"/>\n<polygon fill=\"#000000\" stroke=\"#000000\" points=\"79.7286,-45.5001 89.7286,-42 79.7286,-38.5001 79.7286,-45.5001\"/>\n</a>\n</g>\n</g>\n</g>\n</svg>\n"
          },
          "metadata": {
            "tags": []
          }
        },
        {
          "output_type": "display_data",
          "data": {
            "text/html": [
              "<table border=\"1\" class=\"dataframe\">\n",
              "  <thead>\n",
              "    <tr style=\"text-align: left;\">\n",
              "      <th>epoch</th>\n",
              "      <th>train_loss</th>\n",
              "      <th>valid_loss</th>\n",
              "      <th>accuracy</th>\n",
              "      <th>smoothed_acc</th>\n",
              "      <th>time</th>\n",
              "    </tr>\n",
              "  </thead>\n",
              "  <tbody>\n",
              "    <tr>\n",
              "      <td>0</td>\n",
              "      <td>1.631273</td>\n",
              "      <td>1.659098</td>\n",
              "      <td>0.584076</td>\n",
              "      <td>0.571599</td>\n",
              "      <td>00:14</td>\n",
              "    </tr>\n",
              "    <tr>\n",
              "      <td>1</td>\n",
              "      <td>1.251651</td>\n",
              "      <td>1.236153</td>\n",
              "      <td>0.692484</td>\n",
              "      <td>0.677973</td>\n",
              "      <td>00:14</td>\n",
              "    </tr>\n",
              "    <tr>\n",
              "      <td>2</td>\n",
              "      <td>1.071199</td>\n",
              "      <td>1.145483</td>\n",
              "      <td>0.746115</td>\n",
              "      <td>0.733337</td>\n",
              "      <td>00:14</td>\n",
              "    </tr>\n",
              "    <tr>\n",
              "      <td>3</td>\n",
              "      <td>0.948745</td>\n",
              "      <td>0.928652</td>\n",
              "      <td>0.846497</td>\n",
              "      <td>0.830734</td>\n",
              "      <td>00:14</td>\n",
              "    </tr>\n",
              "    <tr>\n",
              "      <td>4</td>\n",
              "      <td>0.849359</td>\n",
              "      <td>0.889864</td>\n",
              "      <td>0.862293</td>\n",
              "      <td>0.848349</td>\n",
              "      <td>00:14</td>\n",
              "    </tr>\n",
              "  </tbody>\n",
              "</table>"
            ],
            "text/plain": [
              "<IPython.core.display.HTML object>"
            ]
          },
          "metadata": {
            "tags": []
          }
        }
      ]
    },
    {
      "cell_type": "code",
      "metadata": {
        "id": "13oJB40IyK40",
        "colab_type": "code",
        "colab": {}
      },
      "source": [
        ""
      ],
      "execution_count": 0,
      "outputs": []
    }
  ]
}