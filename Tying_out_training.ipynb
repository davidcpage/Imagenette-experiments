{
  "nbformat": 4,
  "nbformat_minor": 0,
  "metadata": {
    "colab": {
      "name": "Tying_out_training.ipynb",
      "provenance": [],
      "collapsed_sections": [
        "FU0TYajRTt23"
      ],
      "include_colab_link": true
    },
    "kernelspec": {
      "name": "python3",
      "display_name": "Python 3"
    },
    "accelerator": "GPU"
  },
  "cells": [
    {
      "cell_type": "markdown",
      "metadata": {
        "id": "view-in-github",
        "colab_type": "text"
      },
      "source": [
        "<a href=\"https://colab.research.google.com/github/davidcpage/Imagenette-experiments/blob/master/Tying_out_training.ipynb\" target=\"_parent\"><img src=\"https://colab.research.google.com/assets/colab-badge.svg\" alt=\"Open In Colab\"/></a>"
      ]
    },
    {
      "cell_type": "markdown",
      "metadata": {
        "id": "5QHvmGOBpYuT",
        "colab_type": "text"
      },
      "source": [
        "The aim of today's notebook is to setup training runs on fastai and fastai2 codebases which achieve identical results after fixing random seeds. We continue to use Nvidia DALI for dataloading."
      ]
    },
    {
      "cell_type": "markdown",
      "metadata": {
        "id": "FU0TYajRTt23",
        "colab_type": "text"
      },
      "source": [
        "### Setup"
      ]
    },
    {
      "cell_type": "markdown",
      "metadata": {
        "id": "tZSzbQ9Ag47l",
        "colab_type": "text"
      },
      "source": [
        "Install fastai2 and DALI. You may need to restart afterwards."
      ]
    },
    {
      "cell_type": "code",
      "metadata": {
        "id": "vLGuUwFpLzc1",
        "colab_type": "code",
        "colab": {}
      },
      "source": [
        "!python -m pip install typeguard\n",
        "!python -m pip install --upgrade pillow fastprogress\n",
        "!python -m pip install git+https://github.com/fastai/fastai2\n",
        "!python -m pip install --extra-index-url https://developer.download.nvidia.com/compute/redist/cuda/10.0 nvidia-dali\n",
        "\n",
        "RANGER = 'https://raw.githubusercontent.com/lessw2020/Ranger-Mish-ImageWoof-5/master/ranger.py'\n",
        "UTILS = 'https://raw.githubusercontent.com/davidcpage/Imagenette-experiments/master/utils.py'\n",
        "!wget $RANGER -O ranger.py\n",
        "!wget $UTILS -O utils.py"
      ],
      "execution_count": 0,
      "outputs": []
    },
    {
      "cell_type": "markdown",
      "metadata": {
        "id": "i7c9ywHZhNiT",
        "colab_type": "text"
      },
      "source": [
        "### Main"
      ]
    },
    {
      "cell_type": "markdown",
      "metadata": {
        "id": "Ch4lAVe4quvT",
        "colab_type": "text"
      },
      "source": [
        "Imports, device setup and dataset download:"
      ]
    },
    {
      "cell_type": "code",
      "metadata": {
        "id": "FbkdYs8IM37W",
        "colab_type": "code",
        "colab": {}
      },
      "source": [
        "from functools import partial\n",
        "import numpy as np\n",
        "import torch\n",
        "import torch.nn as nn\n",
        "import fastai, fastai.vision\n",
        "import fastai2, fastai2.callback.all\n",
        "\n",
        "import ranger\n",
        "from utils import *\n",
        "\n",
        "\n",
        "data_dir = fastai.datasets.untar_data(fastai.datasets.URLs.IMAGENETTE_160)\n",
        "device = torch.device(torch.cuda.current_device())\n",
        "\n",
        "torch.backends.cudnn.benchmark = True"
      ],
      "execution_count": 0,
      "outputs": []
    },
    {
      "cell_type": "markdown",
      "metadata": {
        "id": "UuJ5Rcx2HZm-",
        "colab_type": "text"
      },
      "source": [
        "Today is about being deterministic:"
      ]
    },
    {
      "cell_type": "code",
      "metadata": {
        "id": "5XAxQJUoj5RE",
        "colab_type": "code",
        "colab": {}
      },
      "source": [
        "torch.backends.cudnn.deterministic = True"
      ],
      "execution_count": 0,
      "outputs": []
    },
    {
      "cell_type": "markdown",
      "metadata": {
        "id": "fP-8yRCPHj2S",
        "colab_type": "text"
      },
      "source": [
        "DALI DataLoaders"
      ]
    },
    {
      "cell_type": "code",
      "metadata": {
        "id": "_wO66U5HPRvI",
        "colab_type": "code",
        "colab": {}
      },
      "source": [
        "size = 128\n",
        "bs = 64\n",
        "random_aspect_ratio = (3/4, 4/3)\n",
        "random_area = (0.35, 1.)\n",
        "val_xtra_size = 32\n",
        "\n",
        "to = lambda dtype: (lambda b: (b[0].to(dtype), b[1]))\n",
        "\n",
        "train_dl = lambda folder, bs, dtype=torch.float16, seed=-1: (\n",
        "        Map(to(dtype), DALIDataLoader(imagenet_train_graph(folder, size, random_aspect_ratio, random_area), bs, drop_last=True, device=device, seed=seed)))\n",
        "valid_dl = lambda folder, bs, dtype=torch.float16: Chain(\n",
        "        Map(to(dtype), DALIDataLoader(imagenet_valid_graph(folder, size, val_xtra_size), bs, drop_last=False, device=device)),\n",
        "        Map(to(dtype), DALIDataLoader(imagenet_valid_graph(folder, size, val_xtra_size, mirror=1), bs, drop_last=False, device=device)),\n",
        "    )\n",
        "\n",
        "data_v1 = lambda data_dir=data_dir, bs=bs, dtype=torch.float16, seed=-1: MockV1DataBunch(train_dl(data_dir/'train', bs, dtype, seed), valid_dl(data_dir/'val', bs, dtype))\n",
        "data_v2 = lambda data_dir=data_dir, bs=bs, dtype=torch.float16, seed=-1: fastai2.basics.DataBunch(train_dl(data_dir/'train', bs, dtype, seed), valid_dl(data_dir/'val', bs, dtype))"
      ],
      "execution_count": 0,
      "outputs": []
    },
    {
      "cell_type": "markdown",
      "metadata": {
        "id": "C4r2i0K7ITC5",
        "colab_type": "text"
      },
      "source": [
        "It turns out that there's a small discrepancy in cosine annealing schedules between the v1 and v2 codebases. The v2 API for param schedules (as functions on the unit interval) is nice and simple so let's add an adaptor for v1 to use this:\n"
      ]
    },
    {
      "cell_type": "code",
      "metadata": {
        "id": "h705uhjykqto",
        "colab_type": "code",
        "colab": {}
      },
      "source": [
        "class FuncScheduler(fastai.train.LearnerCallback):\n",
        "    def __init__(self, func, learn, n_epoch):\n",
        "        super().__init__(learn)\n",
        "        self.learn, self.func, self.n_epoch = learn, func, n_epoch\n",
        "        \n",
        "    def on_train_begin(self, **kwargs):\n",
        "        self.step()\n",
        "\n",
        "    def on_batch_end(self, train, **kwargs):\n",
        "        if train: self.step()\n",
        "\n",
        "    def step(self):\n",
        "        if not hasattr(self, 'iter_vals'):\n",
        "            n_batch = len(self.learn.data.train_dl)*self.n_epoch \n",
        "            self.iter_vals = iter(self.func(x/n_batch) for x in range(0, n_batch+1))\n",
        "        self.learn.opt.set_stat('lr', next(self.iter_vals))\n",
        "\n",
        "def flat_then_cosine_sched(learn, n_epoch, lr, pct_start, div_final=1e5):\n",
        "    func = fastai2.callback.schedule.combined_cos(pct_start, lr, lr, lr/div_final)\n",
        "    return FuncScheduler(func, learn, n_epoch)"
      ],
      "execution_count": 0,
      "outputs": []
    },
    {
      "cell_type": "markdown",
      "metadata": {
        "id": "GPzOXiieJJnR",
        "colab_type": "text"
      },
      "source": [
        "Ok, ready to go. Here's our model from last time:\n"
      ]
    },
    {
      "cell_type": "code",
      "metadata": {
        "id": "SeMsOlhbJIHL",
        "colab_type": "code",
        "colab": {}
      },
      "source": [
        "model_fn = partial(xresnet18, c_out=10, sa=1, sym=0, act_cls=MishJit)"
      ],
      "execution_count": 0,
      "outputs": []
    },
    {
      "cell_type": "markdown",
      "metadata": {
        "id": "eWjmBztWJQtC",
        "colab_type": "text"
      },
      "source": [
        "a v1 learner:"
      ]
    },
    {
      "cell_type": "code",
      "metadata": {
        "id": "geLWPNtrSNA_",
        "colab_type": "code",
        "colab": {}
      },
      "source": [
        "learner_v1 = partial(\n",
        "    fastai.basic_train.Learner, \n",
        "    wd=1e-2, bn_wd=False, true_wd=True,\n",
        "    opt_func=partial(ranger.Ranger, betas=(0.95, 0.99), eps=1e-6),\n",
        "    metrics=(fastai.metrics.accuracy,),\n",
        "    loss_func=fastai.layers.LabelSmoothingCrossEntropy())"
      ],
      "execution_count": 0,
      "outputs": []
    },
    {
      "cell_type": "markdown",
      "metadata": {
        "id": "U8HGqIrvJVug",
        "colab_type": "text"
      },
      "source": [
        "and training code:"
      ]
    },
    {
      "cell_type": "code",
      "metadata": {
        "id": "EypadbirnOSI",
        "colab_type": "code",
        "outputId": "1999c518-bc3d-40c1-ed58-3cc840025fbc",
        "colab": {
          "base_uri": "https://localhost:8080/",
          "height": 204
        }
      },
      "source": [
        "torch.manual_seed(123)\n",
        "learn = learner_v1(data_v1(seed=123, dtype=torch.float), model_fn())\n",
        "n_epoch = 5\n",
        "learn.fit(n_epoch, callbacks=[flat_then_cosine_sched(learn, n_epoch, lr=4e-3, pct_start=0.72)])"
      ],
      "execution_count": 7,
      "outputs": [
        {
          "output_type": "display_data",
          "data": {
            "text/html": [
              "<table border=\"1\" class=\"dataframe\">\n",
              "  <thead>\n",
              "    <tr style=\"text-align: left;\">\n",
              "      <th>epoch</th>\n",
              "      <th>train_loss</th>\n",
              "      <th>valid_loss</th>\n",
              "      <th>accuracy</th>\n",
              "      <th>time</th>\n",
              "    </tr>\n",
              "  </thead>\n",
              "  <tbody>\n",
              "    <tr>\n",
              "      <td>0</td>\n",
              "      <td>1.477235</td>\n",
              "      <td>1.506388</td>\n",
              "      <td>0.601000</td>\n",
              "      <td>00:16</td>\n",
              "    </tr>\n",
              "    <tr>\n",
              "      <td>1</td>\n",
              "      <td>1.224201</td>\n",
              "      <td>1.079142</td>\n",
              "      <td>0.765000</td>\n",
              "      <td>00:15</td>\n",
              "    </tr>\n",
              "    <tr>\n",
              "      <td>2</td>\n",
              "      <td>1.111008</td>\n",
              "      <td>1.079000</td>\n",
              "      <td>0.772000</td>\n",
              "      <td>00:15</td>\n",
              "    </tr>\n",
              "    <tr>\n",
              "      <td>3</td>\n",
              "      <td>1.032655</td>\n",
              "      <td>0.973072</td>\n",
              "      <td>0.812000</td>\n",
              "      <td>00:15</td>\n",
              "    </tr>\n",
              "    <tr>\n",
              "      <td>4</td>\n",
              "      <td>0.928292</td>\n",
              "      <td>0.865962</td>\n",
              "      <td>0.868000</td>\n",
              "      <td>00:15</td>\n",
              "    </tr>\n",
              "  </tbody>\n",
              "</table>"
            ],
            "text/plain": [
              "<IPython.core.display.HTML object>"
            ]
          },
          "metadata": {
            "tags": []
          }
        }
      ]
    },
    {
      "cell_type": "markdown",
      "metadata": {
        "id": "l1aRxFymJqq2",
        "colab_type": "text"
      },
      "source": [
        "Now for v2, here's the learner from last time:\n"
      ]
    },
    {
      "cell_type": "code",
      "metadata": {
        "id": "omJkSU1SwIPX",
        "colab_type": "code",
        "colab": {}
      },
      "source": [
        "RangerWrapper = lambda *args, **kwargs: fastai2.basics.OptimWrapper(ranger.Ranger(*args, **kwargs))\n",
        "\n",
        "learner_v2 = partial(\n",
        "    fastai2.basics.Learner, lr=4e-3,\n",
        "    opt_func=partial(RangerWrapper, betas=(0.95, 0.99), eps=1e-6),\n",
        "    metrics=(fastai2.metrics.accuracy,),\n",
        "    loss_func=fastai2.basics.LabelSmoothingCrossEntropy())"
      ],
      "execution_count": 0,
      "outputs": []
    },
    {
      "cell_type": "markdown",
      "metadata": {
        "id": "lSKwrfs_JwYD",
        "colab_type": "text"
      },
      "source": [
        "In order to handle weight decay in the same way as v1 (weight decay is not applied to BatchNorm params or biases) we create the optimiser manually outside of the call to learn.fit:"
      ]
    },
    {
      "cell_type": "code",
      "metadata": {
        "id": "xCjOnwW5KjMR",
        "colab_type": "code",
        "colab": {
          "base_uri": "https://localhost:8080/",
          "height": 204
        },
        "outputId": "c44ea489-e9ec-496d-8243-cba949ce1651"
      },
      "source": [
        "torch.manual_seed(123)\n",
        "\n",
        "learn = learner_v2(data_v2(dtype=torch.float, seed=123), model_fn())\n",
        "skip_wd = split_params((lambda mod, name: isinstance(mod, nn.BatchNorm2d) or name=='bias'), learn.model)\n",
        "learn.opt = learn.opt_func([{'params': skip_wd[False]}, {'params': skip_wd[True]}], lr=4e-3)\n",
        "\n",
        "learn.fit_flat_cos(5, lr=4e-3, wd=[1e-2, 0.0], pct_start=0.72)"
      ],
      "execution_count": 9,
      "outputs": [
        {
          "output_type": "display_data",
          "data": {
            "text/html": [
              "<table border=\"1\" class=\"dataframe\">\n",
              "  <thead>\n",
              "    <tr style=\"text-align: left;\">\n",
              "      <th>epoch</th>\n",
              "      <th>train_loss</th>\n",
              "      <th>valid_loss</th>\n",
              "      <th>accuracy</th>\n",
              "      <th>time</th>\n",
              "    </tr>\n",
              "  </thead>\n",
              "  <tbody>\n",
              "    <tr>\n",
              "      <td>0</td>\n",
              "      <td>1.477165</td>\n",
              "      <td>1.506689</td>\n",
              "      <td>0.599000</td>\n",
              "      <td>00:15</td>\n",
              "    </tr>\n",
              "    <tr>\n",
              "      <td>1</td>\n",
              "      <td>1.224083</td>\n",
              "      <td>1.079232</td>\n",
              "      <td>0.768000</td>\n",
              "      <td>00:15</td>\n",
              "    </tr>\n",
              "    <tr>\n",
              "      <td>2</td>\n",
              "      <td>1.111179</td>\n",
              "      <td>1.076746</td>\n",
              "      <td>0.774000</td>\n",
              "      <td>00:15</td>\n",
              "    </tr>\n",
              "    <tr>\n",
              "      <td>3</td>\n",
              "      <td>1.032706</td>\n",
              "      <td>0.971359</td>\n",
              "      <td>0.813000</td>\n",
              "      <td>00:15</td>\n",
              "    </tr>\n",
              "    <tr>\n",
              "      <td>4</td>\n",
              "      <td>0.928698</td>\n",
              "      <td>0.865830</td>\n",
              "      <td>0.869000</td>\n",
              "      <td>00:15</td>\n",
              "    </tr>\n",
              "  </tbody>\n",
              "</table>"
            ],
            "text/plain": [
              "<IPython.core.display.HTML object>"
            ]
          },
          "metadata": {
            "tags": []
          }
        }
      ]
    },
    {
      "cell_type": "markdown",
      "metadata": {
        "id": "iueeZmrULtxl",
        "colab_type": "text"
      },
      "source": [
        "Not bad! We're getting agreement in the first 2-3 dps of train_loss with the v1 code above. The main remaining difference is the code used to apply weight decay inside the Ranger optimiser. We can get (hack) around this as by applying weight decay ourselves outside the optimiser:"
      ]
    },
    {
      "cell_type": "code",
      "metadata": {
        "id": "gcDfQaiv-5cu",
        "colab_type": "code",
        "colab": {}
      },
      "source": [
        "class WeightDecay(fastai2.learner.Callback):\n",
        "    def __init__(self, params, wd):\n",
        "        stepper = lambda p, wd: fastai2.basics.weight_decay(p, self.opt.hypers[0]['lr'], wd)\n",
        "        self.step = fastai2.basics.Optimizer(params, [stepper], wd=wd).step\n",
        "        \n",
        "    def after_backward(self):\n",
        "        self.step()"
      ],
      "execution_count": 0,
      "outputs": []
    },
    {
      "cell_type": "code",
      "metadata": {
        "id": "-iMJM4U7-nfo",
        "colab_type": "code",
        "colab": {
          "base_uri": "https://localhost:8080/",
          "height": 204
        },
        "outputId": "6f0c8bc2-5947-49c1-e5f5-087c818aa641"
      },
      "source": [
        "torch.manual_seed(123)\n",
        "\n",
        "learn = learner_v2(data_v2(dtype=torch.float, seed=123), model_fn())\n",
        "skip_wd = split_params((lambda mod, name: isinstance(mod, nn.BatchNorm2d) or name=='bias'), learn.model)\n",
        "learn.fit_flat_cos(5, lr=4e-3, wd=0.0, pct_start=0.72, cbs=[WeightDecay(skip_wd[False], 1e-2)])"
      ],
      "execution_count": 11,
      "outputs": [
        {
          "output_type": "display_data",
          "data": {
            "text/html": [
              "<table border=\"1\" class=\"dataframe\">\n",
              "  <thead>\n",
              "    <tr style=\"text-align: left;\">\n",
              "      <th>epoch</th>\n",
              "      <th>train_loss</th>\n",
              "      <th>valid_loss</th>\n",
              "      <th>accuracy</th>\n",
              "      <th>time</th>\n",
              "    </tr>\n",
              "  </thead>\n",
              "  <tbody>\n",
              "    <tr>\n",
              "      <td>0</td>\n",
              "      <td>1.477233</td>\n",
              "      <td>1.506388</td>\n",
              "      <td>0.601000</td>\n",
              "      <td>00:15</td>\n",
              "    </tr>\n",
              "    <tr>\n",
              "      <td>1</td>\n",
              "      <td>1.224201</td>\n",
              "      <td>1.079142</td>\n",
              "      <td>0.765000</td>\n",
              "      <td>00:15</td>\n",
              "    </tr>\n",
              "    <tr>\n",
              "      <td>2</td>\n",
              "      <td>1.111007</td>\n",
              "      <td>1.079000</td>\n",
              "      <td>0.772000</td>\n",
              "      <td>00:15</td>\n",
              "    </tr>\n",
              "    <tr>\n",
              "      <td>3</td>\n",
              "      <td>1.032653</td>\n",
              "      <td>0.973072</td>\n",
              "      <td>0.812000</td>\n",
              "      <td>00:15</td>\n",
              "    </tr>\n",
              "    <tr>\n",
              "      <td>4</td>\n",
              "      <td>0.928291</td>\n",
              "      <td>0.865962</td>\n",
              "      <td>0.868000</td>\n",
              "      <td>00:15</td>\n",
              "    </tr>\n",
              "  </tbody>\n",
              "</table>"
            ],
            "text/plain": [
              "<IPython.core.display.HTML object>"
            ]
          },
          "metadata": {
            "tags": []
          }
        }
      ]
    },
    {
      "cell_type": "markdown",
      "metadata": {
        "id": "SBNfSkVZNZpp",
        "colab_type": "text"
      },
      "source": [
        "These agree with the v1 results to 5 dps."
      ]
    },
    {
      "cell_type": "markdown",
      "metadata": {
        "id": "FWTxl-z9Ny62",
        "colab_type": "text"
      },
      "source": [
        "### Manual training loop"
      ]
    },
    {
      "cell_type": "markdown",
      "metadata": {
        "id": "tyE17_v4N5TB",
        "colab_type": "text"
      },
      "source": [
        "In case it's useful, here's a manual training loop based somewhat loosely on the v1 codebase which also ties out to 5dp. This may be helpful for future comparison/debugging:"
      ]
    },
    {
      "cell_type": "code",
      "metadata": {
        "id": "1JhqL1n3gKjh",
        "colab_type": "code",
        "colab": {}
      },
      "source": [
        "update = lambda metric, output, target: metric.on_batch_end(output, target)\n",
        "\n",
        "format_str = lambda name, stat: (\n",
        "    fastai.basic_train.format_time(stat) if 'time' in name \n",
        "    else '#na#' if stat is None \n",
        "    else str(stat) if isinstance(stat, int) \n",
        "    else f'{stat:.6f}'\n",
        ")\n",
        "       \n",
        "def fit(learn, n_epoch, lr_sched):\n",
        "    learn.create_opt(0, learn.wd)\n",
        "    pbar = fastai.basics.master_bar(range(n_epoch))\n",
        "    smoothener = fastai.basics.SmoothenValue(0.98)\n",
        "    def valid_loss(output, target): return learn.loss_func(output, target)\n",
        "    metrics = [fastai.basics.AverageMetric(m) for m in ([valid_loss] + learn.metrics)]\n",
        "    names = ['epoch', 'train_loss'] + [m.name for m in metrics] + ['time']\n",
        "    pbar.write(names, table=True)\n",
        "\n",
        "    timer, logs = Timer(), []\n",
        "    for epoch in pbar:\n",
        "        learn.model.train()\n",
        "        num_batch = 0 \n",
        "        for met in metrics: met.val, met.count = 0., 0 \n",
        "        for xb,yb in fastai.basics.progress_bar(learn.data.train_dl, parent=pbar):\n",
        "            lr_sched.step()\n",
        "            output = learn.model(xb)\n",
        "            loss = learn.loss_func(output, yb)\n",
        "            smoothener.add_value(loss.item())\n",
        "            pbar.child.comment = f'{smoothener.smooth:.4f}'\n",
        "            logs.append({'lr': learn.opt.lr, 'mom': learn.opt.mom, 'loss': smoothener.smooth})\n",
        "            loss.backward()\n",
        "            learn.opt.step()\n",
        "            learn.opt.zero_grad()\n",
        "            num_batch += 1\n",
        "\n",
        "        learn.model.eval()\n",
        "        with torch.no_grad():\n",
        "            for xb, yb in fastai.basics.progress_bar(learn.data.valid_dl, parent=pbar):\n",
        "                output = learn.model(xb)\n",
        "                for met in metrics: update(met, output, yb)\n",
        "\n",
        "        summary = union(\n",
        "            {'epoch': epoch, 'num_batch': num_batch, 'train_loss': smoothener.smooth,  'time': timer()},\n",
        "            {m.name: (m.val/m.count).item() for m in metrics}\n",
        "        )\n",
        "        logs.append(summary)\n",
        "        pbar.write([format_str(k, summary[k]) for k in names], table=True)\n",
        "\n",
        "    return group_by_key(((k,v) for entry in logs for (k,v) in entry.items()), np.array)"
      ],
      "execution_count": 0,
      "outputs": []
    },
    {
      "cell_type": "code",
      "metadata": {
        "id": "9HfQqkTbD6XY",
        "colab_type": "code",
        "colab": {
          "base_uri": "https://localhost:8080/",
          "height": 204
        },
        "outputId": "fae39432-c4bf-4a33-9644-67335caa3201"
      },
      "source": [
        "torch.manual_seed(123)\n",
        "learn = learner_v1(data_v1(seed=123, dtype=torch.float), model_fn())\n",
        "n_epoch = 5\n",
        "logs = fit(learn, n_epoch, flat_then_cosine_sched(learn, n_epoch, lr=4e-3, pct_start=0.72))"
      ],
      "execution_count": 13,
      "outputs": [
        {
          "output_type": "display_data",
          "data": {
            "text/html": [
              "<table border=\"1\" class=\"dataframe\">\n",
              "  <thead>\n",
              "    <tr style=\"text-align: left;\">\n",
              "      <th>epoch</th>\n",
              "      <th>train_loss</th>\n",
              "      <th>valid_loss</th>\n",
              "      <th>accuracy</th>\n",
              "      <th>time</th>\n",
              "    </tr>\n",
              "  </thead>\n",
              "  <tbody>\n",
              "    <tr>\n",
              "      <td>0</td>\n",
              "      <td>1.477233</td>\n",
              "      <td>1.506388</td>\n",
              "      <td>0.601000</td>\n",
              "      <td>00:15</td>\n",
              "    </tr>\n",
              "    <tr>\n",
              "      <td>1</td>\n",
              "      <td>1.224201</td>\n",
              "      <td>1.079142</td>\n",
              "      <td>0.765000</td>\n",
              "      <td>00:15</td>\n",
              "    </tr>\n",
              "    <tr>\n",
              "      <td>2</td>\n",
              "      <td>1.111007</td>\n",
              "      <td>1.079000</td>\n",
              "      <td>0.772000</td>\n",
              "      <td>00:15</td>\n",
              "    </tr>\n",
              "    <tr>\n",
              "      <td>3</td>\n",
              "      <td>1.032654</td>\n",
              "      <td>0.973072</td>\n",
              "      <td>0.812000</td>\n",
              "      <td>00:15</td>\n",
              "    </tr>\n",
              "    <tr>\n",
              "      <td>4</td>\n",
              "      <td>0.928292</td>\n",
              "      <td>0.865962</td>\n",
              "      <td>0.868000</td>\n",
              "      <td>00:15</td>\n",
              "    </tr>\n",
              "  </tbody>\n",
              "</table>"
            ],
            "text/plain": [
              "<IPython.core.display.HTML object>"
            ]
          },
          "metadata": {
            "tags": []
          }
        }
      ]
    },
    {
      "cell_type": "code",
      "metadata": {
        "id": "oNTzJ5Z7okfU",
        "colab_type": "code",
        "outputId": "fd482cd2-c10d-4d48-b479-ca4f1527e22e",
        "colab": {
          "base_uri": "https://localhost:8080/",
          "height": 173
        }
      },
      "source": [
        "import matplotlib.pyplot as plt\n",
        "fig, axs = plt.subplots(1, 2, figsize=(8, 2))\n",
        "for ax, k in zip(axs, ['lr', 'loss']):\n",
        "    ax.plot(logs[k])\n",
        "    ax.set_title(k)"
      ],
      "execution_count": 17,
      "outputs": [
        {
          "output_type": "display_data",
          "data": {
            "image/png": "[encoded data removed]",
            "text/plain": [
              "<Figure size 576x144 with 2 Axes>"
            ]
          },
          "metadata": {
            "tags": []
          }
        }
      ]
    },
    {
      "cell_type": "code",
      "metadata": {
        "id": "X3cDWmLtSvGB",
        "colab_type": "code",
        "colab": {}
      },
      "source": [
        ""
      ],
      "execution_count": 0,
      "outputs": []
    }
  ]
}